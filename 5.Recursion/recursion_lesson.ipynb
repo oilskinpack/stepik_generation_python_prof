{
 "cells": [
  {
   "cell_type": "code",
   "execution_count": 1,
   "id": "cd4b05c5",
   "metadata": {},
   "outputs": [
    {
     "name": "stdout",
     "output_type": "stream",
     "text": [
      "Это рекурсивная функция.\n",
      "Это рекурсивная функция.\n",
      "Это рекурсивная функция.\n",
      "Это рекурсивная функция.\n",
      "Это рекурсивная функция.\n",
      "1\n",
      "2\n",
      "3\n",
      "4\n",
      "5\n"
     ]
    }
   ],
   "source": [
    "def message(times):\n",
    "    if times > 0:\n",
    "        print('Это рекурсивная функция.')\n",
    "        message(times - 1)\n",
    "        print(times)\n",
    "\n",
    "message(5)"
   ]
  },
  {
   "cell_type": "code",
   "execution_count": 8,
   "id": "e2d34e0c",
   "metadata": {},
   "outputs": [
    {
     "name": "stdout",
     "output_type": "stream",
     "text": [
      "bee\n",
      "6\n",
      "5\n",
      "4\n"
     ]
    }
   ],
   "source": [
    "def bee(n):\n",
    "    if n >= 7:\n",
    "        print('bee')\n",
    "    else:\n",
    "        bee(n + 1)\n",
    "        print(n)\n",
    "        \n",
    "bee(4)"
   ]
  }
 ],
 "metadata": {
  "kernelspec": {
   "display_name": "base",
   "language": "python",
   "name": "python3"
  },
  "language_info": {
   "codemirror_mode": {
    "name": "ipython",
    "version": 3
   },
   "file_extension": ".py",
   "mimetype": "text/x-python",
   "name": "python",
   "nbconvert_exporter": "python",
   "pygments_lexer": "ipython3",
   "version": "3.11.7"
  }
 },
 "nbformat": 4,
 "nbformat_minor": 5
}
