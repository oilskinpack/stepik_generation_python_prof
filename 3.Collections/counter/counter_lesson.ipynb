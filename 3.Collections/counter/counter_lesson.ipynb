{
 "cells": [
  {
   "cell_type": "code",
   "execution_count": 1,
   "id": "ea529d3c",
   "metadata": {},
   "outputs": [],
   "source": [
    "from collections import Counter"
   ]
  },
  {
   "cell_type": "code",
   "execution_count": 2,
   "id": "e29103d8",
   "metadata": {},
   "outputs": [
    {
     "name": "stdout",
     "output_type": "stream",
     "text": [
      "Counter({'i': 4, 's': 4, 'm': 1, 'p': 1})\n"
     ]
    }
   ],
   "source": [
    "#Создание Counter по строке\n",
    "\n",
    "counter = Counter('mississipi')\n",
    "print(counter) #Counter({'i': 4, 's': 4, 'm': 1, 'p': 1})"
   ]
  },
  {
   "cell_type": "code",
   "execution_count": 3,
   "id": "c298991c",
   "metadata": {},
   "outputs": [
    {
     "name": "stdout",
     "output_type": "stream",
     "text": [
      "Counter({'i': 4, 's': 4, 'p': 2, 'm': 1})\n",
      "Counter({'i': 4, 's': 4, 'p': 2, 'm': 1})\n"
     ]
    }
   ],
   "source": [
    "#Создание Counter через кwargs и словарь\n",
    "\n",
    "counter1 = Counter(i=4,s=4,p=2,m=1)\n",
    "counter2 = Counter({'i': 4, 's': 4, 'p': 2, 'm': 1})\n",
    "\n",
    "print(counter1)  #Counter({'i': 4, 's': 4, 'p': 2, 'm': 1})\n",
    "print(counter2)  #Counter({'i': 4, 's': 4, 'p': 2, 'm': 1})"
   ]
  },
  {
   "cell_type": "code",
   "execution_count": 4,
   "id": "4b0ea6e2",
   "metadata": {},
   "outputs": [
    {
     "name": "stdout",
     "output_type": "stream",
     "text": [
      "Counter({'i': 4, 's': 4, 'p': 2, 'm': 1})\n",
      "Counter({'i': 6, 's': 6, 'p': 2, 'm': 2, 'o': 1, 'u': 1, 'r': 1})\n"
     ]
    }
   ],
   "source": [
    "#Обновление данных - счетчики добавляются\n",
    "\n",
    "letters = Counter({'i': 4, 's': 4, 'p': 2, 'm': 1})\n",
    "print(letters)\n",
    "\n",
    "letters.update('missouri')   #Counter({'i': 4, 's': 4, 'p': 2, 'm': 1})\n",
    "print(letters)               #Counter({'i': 6, 's': 6, 'p': 2, 'm': 2, 'o': 1, 'u': 1, 'r': 1})"
   ]
  },
  {
   "cell_type": "code",
   "execution_count": 5,
   "id": "c499756b",
   "metadata": {},
   "outputs": [
    {
     "name": "stdout",
     "output_type": "stream",
     "text": [
      "Counter({'apple': 20, 'banana': 10, 'orange': 5})\n",
      "Counter({'apple': 23, 'orange': 17, 'banana': 17})\n",
      "Counter({'apple': 27, 'orange': 22, 'banana': 17, 'tomato': 6})\n"
     ]
    }
   ],
   "source": [
    "#Обновление через аргументы или словарь\n",
    "sales = Counter(apple=20, orange=5, banana=10)\n",
    "monday_sales = Counter(apple=3, orange=12, banana=7)\n",
    "tuesday_sales = {'apple': 4, 'orange': 5, 'tomato': 6}\n",
    "\n",
    "print(sales) #Counter({'apple': 20, 'banana': 10, 'orange': 5})\n",
    "\n",
    "sales.update(monday_sales)\n",
    "print(sales) #Counter({'apple': 23, 'orange': 17, 'banana': 17})\n",
    "\n",
    "sales.update(tuesday_sales)\n",
    "print(sales) #Counter({'apple': 27, 'orange': 22, 'banana': 17, 'tomato': 6})"
   ]
  },
  {
   "cell_type": "code",
   "execution_count": 6,
   "id": "28b3c2f9",
   "metadata": {},
   "outputs": [
    {
     "name": "stdout",
     "output_type": "stream",
     "text": [
      "Counter()\n"
     ]
    }
   ],
   "source": [
    "#Чистка\n",
    "sales.clear()\n",
    "\n",
    "print(sales) #Counter()"
   ]
  },
  {
   "cell_type": "code",
   "execution_count": null,
   "id": "79d3e8d5",
   "metadata": {},
   "outputs": [
    {
     "name": "stdout",
     "output_type": "stream",
     "text": [
      "[('i', 4), ('s', 4), ('p', 2)]\n",
      "[(5, 3), (7, 3), (9, 3), (1, 2)]\n"
     ]
    }
   ],
   "source": [
    "#Возврат самых популярных значений - возвращается кортеж\n",
    "letters = Counter('mississippi')\n",
    "numbers = Counter([5, 6, 7, 1, 3, 9, 9, 1, 2, 5, 5, 7, 7, 9])\n",
    "\n",
    "print(letters.most_common(3))  #[('i', 4), ('s', 4), ('p', 2)]\n",
    "print(numbers.most_common(4))  #[(5, 3), (7, 3), (9, 3), (1, 2)]"
   ]
  },
  {
   "cell_type": "code",
   "execution_count": null,
   "id": "eb1dafee",
   "metadata": {},
   "outputs": [
    {
     "name": "stdout",
     "output_type": "stream",
     "text": [
      "('m', 1)\n",
      "[('m', 1), ('p', 2), ('s', 4), ('i', 4)]\n",
      "[(6, 1), (3, 1)]\n"
     ]
    }
   ],
   "source": [
    "#Для поиска редких элементов используй отрицательные срезы\n",
    "letters = Counter('mississippi')\n",
    "numbers = Counter([5, 6, 7, 1, 3, 9, 9, 1, 2, 5, 5, 7, 7, 9])\n",
    "\n",
    "print(letters.most_common()[-1])   #('m', 1)\n",
    "print(letters.most_common()[::-1]) #[('m', 1), ('p', 2), ('s', 4), ('i', 4)]\n",
    "print(numbers.most_common()[-3:-1]) #[(6, 1), (3, 1)]"
   ]
  },
  {
   "cell_type": "code",
   "execution_count": null,
   "id": "19c4668e",
   "metadata": {},
   "outputs": [
    {
     "name": "stdout",
     "output_type": "stream",
     "text": [
      "['m', 'i', 'i', 'i', 'i', 's', 's', 's', 's', 'p', 'p']\n",
      "[5, 5, 5, 6, 7, 7, 7, 1, 1, 3, 9, 9, 9, 2]\n"
     ]
    }
   ],
   "source": [
    "#Метод elements - возвращает итератор в котором каждый элемент повторяется такое же кол-во раз, как в счетчике\n",
    "letters = Counter('mississippi')\n",
    "numbers = Counter([5, 6, 7, 1, 3, 9, 9, 1, 2, 5, 5, 7, 7, 9])\n",
    "\n",
    "print(list(letters.elements())) #['m', 'i', 'i', 'i', 'i', 's', 's', 's', 's', 'p', 'p']\n",
    "print(list(numbers.elements())) #[5, 5, 5, 6, 7, 7, 7, 1, 1, 3, 9, 9, 9, 2]"
   ]
  },
  {
   "cell_type": "code",
   "execution_count": null,
   "id": "2ef3c015",
   "metadata": {},
   "outputs": [
    {
     "name": "stdout",
     "output_type": "stream",
     "text": [
      "-87\n"
     ]
    }
   ],
   "source": [
    "#Метод Total - суммирование всех значений, включая отрицательные\n",
    "letters = Counter(i=4, s=4, a=0, p=2, b=-98, m=1)\n",
    "\n",
    "print(letters.total())  #-87"
   ]
  },
  {
   "cell_type": "code",
   "execution_count": null,
   "id": "409d677b",
   "metadata": {},
   "outputs": [
    {
     "name": "stdout",
     "output_type": "stream",
     "text": [
      "Counter({'b': 98, 's': 20, 'p': 8, 'i': 2, 'z': 0, 'm': -1, 'a': -5})\n"
     ]
    }
   ],
   "source": [
    "#Метод subtract - вычитает из одного Counter другой [антипод метода update]\n",
    "counter1 = Counter(i=4, s=40, a=1, p=20, b=98, z=69)\n",
    "counter2 = Counter(i=2, s=20, a=6, p=12, m=1, z=69)\n",
    "\n",
    "counter1.subtract(counter2)       # обновляем значения в counter1\n",
    "\n",
    "print(counter1) #Counter({'b': 98, 's': 20, 'p': 8, 'i': 2, 'z': 0, 'm': -1, 'a': -5})"
   ]
  },
  {
   "cell_type": "code",
   "execution_count": null,
   "id": "4fa599d6",
   "metadata": {},
   "outputs": [
    {
     "name": "stdout",
     "output_type": "stream",
     "text": [
      "Counter({'s': 48, 'p': 20, 'i': 12, 'm': 4})\n",
      "Counter({'s': 32, 'i': 8})\n",
      "Counter({'m': 2})\n"
     ]
    }
   ],
   "source": [
    "#Можно использовать математические операторы\n",
    "#Сложение, вычитание - исплючаются элементы с отрицательными счетчиками\n",
    "counter1 = Counter(i=10, s=40, p=10, m=1)\n",
    "counter2 = Counter(i=2, s=8, p=10, m=3)\n",
    "\n",
    "print(counter1 + counter2) #Counter({'s': 48, 'p': 20, 'i': 12, 'm': 4})\n",
    "print(counter1 - counter2) #Counter({'s': 32, 'i': 8})\n",
    "print(counter2 - counter1) #Counter({'m': 2})"
   ]
  },
  {
   "cell_type": "code",
   "execution_count": null,
   "id": "ea4b7a37",
   "metadata": {},
   "outputs": [
    {
     "name": "stdout",
     "output_type": "stream",
     "text": [
      "Counter({'p': 10, 's': 8, 'i': 2, 'm': 1})\n",
      "Counter({'s': 40, 'i': 10, 'p': 10, 'm': 3})\n"
     ]
    }
   ],
   "source": [
    "# | - максимальные значения счетчиков\n",
    "# & - минимальные значения счетчиков\n",
    "counter1 = Counter(i=10, s=40, p=10, m=1)\n",
    "counter2 = Counter(i=2, s=8, p=10, m=3)\n",
    "\n",
    "print(counter1 & counter2) #Counter({'p': 10, 's': 8, 'i': 2, 'm': 1})\n",
    "print(counter1 | counter2) #Counter({'s': 40, 'i': 10, 'p': 10, 'm': 3})"
   ]
  },
  {
   "cell_type": "code",
   "execution_count": null,
   "id": "b0a6bfbe",
   "metadata": {},
   "outputs": [
    {
     "name": "stdout",
     "output_type": "stream",
     "text": [
      "Counter({'a': 5})\n",
      "Counter({'b': 9, 'c': 2})\n"
     ]
    }
   ],
   "source": [
    "#Операторы + и - - выводят только положительные или только отрицательные элементы\n",
    "counter = Counter(a=5, b=-9, c=-2)\n",
    "\n",
    "print(Counter() + counter) #Counter({'a': 5})\n",
    "print(Counter() - counter) #Counter({'b': 9, 'c': 2})"
   ]
  }
 ],
 "metadata": {
  "kernelspec": {
   "display_name": "base",
   "language": "python",
   "name": "python3"
  },
  "language_info": {
   "codemirror_mode": {
    "name": "ipython",
    "version": 3
   },
   "file_extension": ".py",
   "mimetype": "text/x-python",
   "name": "python",
   "nbconvert_exporter": "python",
   "pygments_lexer": "ipython3",
   "version": "3.11.7"
  }
 },
 "nbformat": 4,
 "nbformat_minor": 5
}
