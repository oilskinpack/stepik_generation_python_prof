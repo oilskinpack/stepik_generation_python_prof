{
 "cells": [
  {
   "cell_type": "code",
   "execution_count": 1,
   "id": "191b64f0",
   "metadata": {},
   "outputs": [
    {
     "name": "stdout",
     "output_type": "stream",
     "text": [
      "Point(x=3, y=5)\n",
      "3 5\n",
      "3 5\n",
      "<class '__main__.Point'>\n"
     ]
    }
   ],
   "source": [
    "from collections import namedtuple\n",
    "\n",
    "#Задаем новый тип namedtuple\n",
    "Point = namedtuple('Point',['x','y'])\n",
    "\n",
    "#Создаем экземпляр\n",
    "point = Point(3,5)\n",
    "\n",
    "print(point)               #Point(x=3, y=5)\n",
    "print(point.x,point.y)     #3 5\n",
    "print(point[0],point[1])   #3 5\n",
    "print(type(point))         #<class '__main__.Point'>\n"
   ]
  },
  {
   "cell_type": "code",
   "execution_count": 2,
   "id": "baefd522",
   "metadata": {},
   "outputs": [
    {
     "name": "stdout",
     "output_type": "stream",
     "text": [
      "Person(name='Ангелина', children=['Женя', 'Дима'])\n",
      "Person(name='Ангелина', children=['Женя', 'Дима', 'Никита'])\n"
     ]
    }
   ],
   "source": [
    "#Добавление значений в поля\n",
    "Person = namedtuple('Person',['name','children'])\n",
    "\n",
    "sveta = Person('Ангелина',['Женя','Дима'])\n",
    "print(sveta)  #Person(name='Ангелина', children=['Женя', 'Дима'])\n",
    "\n",
    "sveta.children.append('Никита')\n",
    "print(sveta)  #Person(name='Ангелина', children=['Женя', 'Дима', 'Никита'])"
   ]
  },
  {
   "cell_type": "code",
   "execution_count": null,
   "id": "f56d6f25",
   "metadata": {},
   "outputs": [
    {
     "name": "stdout",
     "output_type": "stream",
     "text": [
      "('name', 'surname', 'height')\n",
      "('name', 'surname', 'height')\n"
     ]
    }
   ],
   "source": [
    "#Получение доступа к списку полей\n",
    "Person = namedtuple('Person',['name','surname','height'])\n",
    "\n",
    "tim = Person('Тимур',29,170)\n",
    "print(tim._fields)            #('name', 'surname', 'height')\n",
    "print(Person._fields)         #('name', 'surname', 'height')"
   ]
  },
  {
   "cell_type": "code",
   "execution_count": null,
   "id": "01f8d79f",
   "metadata": {},
   "outputs": [
    {
     "name": "stdout",
     "output_type": "stream",
     "text": [
      "('name', 'surname', 'height', 'weight')\n"
     ]
    }
   ],
   "source": [
    "#Создаем новый расширенный класс с использованием полей предыдущего\n",
    "ExtendedPerson = namedtuple('ExtendedPerson',[*Person._fields,'weight'])\n",
    "\n",
    "print(ExtendedPerson._fields)    #('name', 'surname', 'height', 'weight')"
   ]
  },
  {
   "cell_type": "code",
   "execution_count": null,
   "id": "938c8448",
   "metadata": {},
   "outputs": [
    {
     "name": "stdout",
     "output_type": "stream",
     "text": [
      "{'country': 'Russia'}\n"
     ]
    }
   ],
   "source": [
    "#Проверка значений по умолчанию\n",
    "Person = namedtuple('Person', ['name', 'age', 'height', 'country'], defaults=['Russia'])\n",
    "\n",
    "print(Person._field_defaults)   #{'country': 'Russia'}\n"
   ]
  },
  {
   "cell_type": "code",
   "execution_count": null,
   "id": "1140d7d8",
   "metadata": {},
   "outputs": [],
   "source": [
    "#Методы \n",
    "#   - index()  - возвращает индекс первого элемента с таким значением\n",
    "#   - count()  - возвращает количество элементов в кортеже с таким значением\n",
    "\n",
    "#   - _make()  - альтернативный конструктор\n",
    "#   - _asdict()  - возврат словаря\n",
    "#   - _replace()  - создание нового экземпляра с заменой каких то полей\n"
   ]
  },
  {
   "cell_type": "code",
   "execution_count": null,
   "id": "5263005e",
   "metadata": {},
   "outputs": [
    {
     "name": "stdout",
     "output_type": "stream",
     "text": [
      "{'name': 'Timur', 'age': 29, 'height': 170}\n"
     ]
    }
   ],
   "source": [
    "Person = namedtuple('Person', ['name', 'age', 'height'])\n",
    "timur = Person._make(['Timur', 29, 170])\n",
    "\n",
    "print(timur._asdict())        #{'name': 'Timur', 'age': 29, 'height': 170}"
   ]
  }
 ],
 "metadata": {
  "kernelspec": {
   "display_name": "base",
   "language": "python",
   "name": "python3"
  },
  "language_info": {
   "codemirror_mode": {
    "name": "ipython",
    "version": 3
   },
   "file_extension": ".py",
   "mimetype": "text/x-python",
   "name": "python",
   "nbconvert_exporter": "python",
   "pygments_lexer": "ipython3",
   "version": "3.11.7"
  }
 },
 "nbformat": 4,
 "nbformat_minor": 5
}
