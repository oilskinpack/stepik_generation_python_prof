{
 "cells": [
  {
   "cell_type": "code",
   "execution_count": 10,
   "id": "35626ff7",
   "metadata": {},
   "outputs": [
    {
     "name": "stdout",
     "output_type": "stream",
     "text": [
      "ChainMap({'one': 1, 'two': 2}, {'a': 'A', 'b': 'B'})\n"
     ]
    }
   ],
   "source": [
    "from collections import ChainMap, defaultdict, OrderedDict, Counter\n",
    "\n",
    "#Создание\n",
    "empty_chain_map = ChainMap()\n",
    "numbers = {'one': 1, 'two': 2}\n",
    "letters = {'a': 'A', 'b': 'B'}\n",
    "\n",
    "chain_map = ChainMap(numbers, letters) \n",
    "print(chain_map)  #chain_map = ChainMap(numbers, letters) "
   ]
  },
  {
   "cell_type": "code",
   "execution_count": null,
   "id": "b7f8c682",
   "metadata": {},
   "outputs": [
    {
     "name": "stdout",
     "output_type": "stream",
     "text": [
      "1\n",
      "B\n",
      "A\n"
     ]
    }
   ],
   "source": [
    "#Доступ к элементам\n",
    "\n",
    "print(chain_map['one']) #1\n",
    "print(chain_map['b'])   #B\n",
    "print(chain_map.get('a')) #A"
   ]
  },
  {
   "cell_type": "code",
   "execution_count": null,
   "id": "3928bf71",
   "metadata": {},
   "outputs": [
    {
     "name": "stdout",
     "output_type": "stream",
     "text": [
      "15\n",
      "8\n",
      "9\n",
      "3\n"
     ]
    }
   ],
   "source": [
    "#Объединение словарей с одинаковыми ключами - берется значение только из первого\n",
    "for_adoption = {'dogs': 15, 'cats': 8, 'pythons': 9}\n",
    "vet_treatment = {'dogs': 7, 'cats': 2, 'tigers': 3}\n",
    "\n",
    "pets = ChainMap(for_adoption, vet_treatment)\n",
    "\n",
    "print(pets['dogs'])  #15\n",
    "print(pets['cats'])  #8"
   ]
  },
  {
   "cell_type": "code",
   "execution_count": null,
   "id": "2d9ee41a",
   "metadata": {},
   "outputs": [
    {
     "name": "stdout",
     "output_type": "stream",
     "text": [
      "a => A\n",
      "b => B\n",
      "one => 1\n",
      "two => 2\n"
     ]
    }
   ],
   "source": [
    "# Как итерировать - перебор словарей в обратном порядке\n",
    "for key in chain_map:\n",
    "    print(key,'=>',chain_map[key])\n",
    "\n",
    "# a => A\n",
    "# b => B\n",
    "# one => 1\n",
    "# two => 2"
   ]
  },
  {
   "cell_type": "code",
   "execution_count": 43,
   "id": "6cdb95ae",
   "metadata": {},
   "outputs": [
    {
     "name": "stdout",
     "output_type": "stream",
     "text": [
      "True\n"
     ]
    }
   ],
   "source": [
    "chainmap1 = ChainMap({'a': 1}, {'b': 2}, {'c': 3})\n",
    "chainmap2 = ChainMap({'a': 1, 'b': 2}, {'c': 3}, {'a': 10, 'b': 20, 'c': 30})\n",
    "\n",
    "print(chainmap1 == chainmap2)"
   ]
  },
  {
   "cell_type": "code",
   "execution_count": null,
   "id": "1b6e0ec1",
   "metadata": {},
   "outputs": [],
   "source": [
    "from collections import ChainMap\n",
    "def deep_update():\n",
    "    d1 = {'a': 1, 'b': 2}\n",
    "    d2 = {'a': 3, 'c': 5}\n",
    "    cm = ChainMap(d1, d2)\n",
    "\n",
    "    deep_update(cm, 'a', 100)\n",
    "    deep_update(cm, 'x', 777)\n",
    "\n",
    "    print(d1)  # {'a': 100, 'b': 2, 'x': 777}\n",
    "    print(d2)  # {'a': 100, 'c': 5}"
   ]
  }
 ],
 "metadata": {
  "kernelspec": {
   "display_name": "base",
   "language": "python",
   "name": "python3"
  },
  "language_info": {
   "codemirror_mode": {
    "name": "ipython",
    "version": 3
   },
   "file_extension": ".py",
   "mimetype": "text/x-python",
   "name": "python",
   "nbconvert_exporter": "python",
   "pygments_lexer": "ipython3",
   "version": "3.11.7"
  }
 },
 "nbformat": 4,
 "nbformat_minor": 5
}
