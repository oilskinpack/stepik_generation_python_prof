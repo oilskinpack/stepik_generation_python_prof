{
 "cells": [
  {
   "cell_type": "code",
   "execution_count": 1,
   "id": "b0e743f6",
   "metadata": {},
   "outputs": [],
   "source": [
    "from collections import defaultdict"
   ]
  },
  {
   "cell_type": "code",
   "execution_count": null,
   "id": "45613936",
   "metadata": {},
   "outputs": [
    {
     "name": "stdout",
     "output_type": "stream",
     "text": [
      "0\n",
      "defaultdict(<class 'int'>, {'name': 'Тимур', 'age': 29, 'job': 'Teacher', 'salary': 0})\n"
     ]
    }
   ],
   "source": [
    "#Использование дефолт словаря\n",
    "info = defaultdict(int) #Задаем тип по умолчанию\n",
    "\n",
    "info['name'] = 'Тимур'\n",
    "info['age'] = 29\n",
    "info['job'] = 'Teacher'\n",
    "\n",
    "print(info['salary'])   #0\n",
    "print(info)             #defaultdict(<class 'int'>, {'name': 'Тимур', 'age': 29, 'job': 'Teacher', 'salary': 0})"
   ]
  },
  {
   "cell_type": "code",
   "execution_count": null,
   "id": "04297e2d",
   "metadata": {},
   "outputs": [
    {
     "name": "stdout",
     "output_type": "stream",
     "text": [
      "Timur\n",
      "0\n",
      "defaultdict(<class 'int'>, {'name': 'Timur', 'age': 29, 'job': 'Teacher', 'salary': 0})\n"
     ]
    }
   ],
   "source": [
    "#Задаем через обычный словарь\n",
    "info = defaultdict(int, {'name': 'Timur', 'age': 29, 'job': 'Teacher'})\n",
    "\n",
    "print(info['name'])    #Timur\n",
    "print(info['salary'])  #0\n",
    "print(info)            #defaultdict(<class 'int'>, {'name': 'Timur', 'age': 29, 'job': 'Teacher', 'salary': 0})"
   ]
  }
 ],
 "metadata": {
  "kernelspec": {
   "display_name": "base",
   "language": "python",
   "name": "python3"
  },
  "language_info": {
   "codemirror_mode": {
    "name": "ipython",
    "version": 3
   },
   "file_extension": ".py",
   "mimetype": "text/x-python",
   "name": "python",
   "nbconvert_exporter": "python",
   "pygments_lexer": "ipython3",
   "version": "3.11.7"
  }
 },
 "nbformat": 4,
 "nbformat_minor": 5
}
