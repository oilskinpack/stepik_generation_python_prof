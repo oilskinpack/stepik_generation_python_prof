{
 "cells": [
  {
   "cell_type": "code",
   "execution_count": 2,
   "metadata": {},
   "outputs": [],
   "source": [
    "import calendar,locale"
   ]
  },
  {
   "cell_type": "code",
   "execution_count": null,
   "metadata": {},
   "outputs": [
    {
     "name": "stdout",
     "output_type": "stream",
     "text": [
      "['понедельник', 'вторник', 'среда', 'четверг', 'пятница', 'суббота', 'воскресенье']\n"
     ]
    }
   ],
   "source": [
    "#Дни недели\n",
    "locale.setlocale(locale.LC_ALL,'ru_RU.UTF-8')\n",
    "\n",
    "days = list(calendar.day_name)\n",
    "print(days) #['понедельник', 'вторник', 'среда', 'четверг', 'пятница', 'суббота', 'воскресенье']\n"
   ]
  },
  {
   "cell_type": "code",
   "execution_count": null,
   "metadata": {},
   "outputs": [
    {
     "name": "stdout",
     "output_type": "stream",
     "text": [
      "['', 'Январь', 'Февраль', 'Март', 'Апрель', 'Май', 'Июнь', 'Июль', 'Август', 'Сентябрь', 'Октябрь', 'Ноябрь', 'Декабрь']\n"
     ]
    }
   ],
   "source": [
    "#Месяцы\n",
    "mons = list(calendar.month_name)\n",
    "print(mons) #['', 'Январь', 'Февраль', 'Март', 'Апрель', 'Май', 'Июнь', 'Июль', 'Август', 'Сентябрь', 'Октябрь', 'Ноябрь', 'Декабрь']"
   ]
  },
  {
   "cell_type": "code",
   "execution_count": null,
   "metadata": {},
   "outputs": [
    {
     "name": "stdout",
     "output_type": "stream",
     "text": [
      "2\n"
     ]
    }
   ],
   "source": [
    "#Получение номеров недели\n",
    "print(calendar.WEDNESDAY) #2"
   ]
  },
  {
   "cell_type": "code",
   "execution_count": null,
   "metadata": {},
   "outputs": [],
   "source": [
    "#Изменить первый день недели по умолчанию\n",
    "# calendar.setfirstweekday(calendar.SUNDAY)"
   ]
  },
  {
   "cell_type": "code",
   "execution_count": null,
   "metadata": {},
   "outputs": [
    {
     "name": "stdout",
     "output_type": "stream",
     "text": [
      "0\n"
     ]
    }
   ],
   "source": [
    "#Получение дня который является началом недели\n",
    "\n",
    "f_day = calendar.firstweekday() #0\n",
    "print(f_day)"
   ]
  },
  {
   "cell_type": "code",
   "execution_count": null,
   "metadata": {},
   "outputs": [
    {
     "name": "stdout",
     "output_type": "stream",
     "text": [
      "False\n"
     ]
    }
   ],
   "source": [
    "#Проверка високосности\n",
    "is_leap = calendar.isleap(2025)\n",
    "print(is_leap) #False"
   ]
  },
  {
   "cell_type": "code",
   "execution_count": null,
   "metadata": {},
   "outputs": [
    {
     "name": "stdout",
     "output_type": "stream",
     "text": [
      "2\n"
     ]
    }
   ],
   "source": [
    "#Количество високосных лет в диапазоне y1 и y2 (не включая)\n",
    "print(calendar.leapdays(2020,2025)) #2"
   ]
  },
  {
   "cell_type": "code",
   "execution_count": null,
   "metadata": {},
   "outputs": [
    {
     "name": "stdout",
     "output_type": "stream",
     "text": [
      "2\n"
     ]
    }
   ],
   "source": [
    "#День недели в виде числа\n",
    "print(calendar.weekday(2021, 9, 1))     #2"
   ]
  },
  {
   "cell_type": "code",
   "execution_count": null,
   "metadata": {},
   "outputs": [
    {
     "name": "stdout",
     "output_type": "stream",
     "text": [
      "(5, 31)\n"
     ]
    }
   ],
   "source": [
    "#Возвращает кортеж (день недели первого дня, кол-во дней)\n",
    "print(calendar.monthrange(2025,3)) #(5, 31)"
   ]
  },
  {
   "cell_type": "code",
   "execution_count": null,
   "metadata": {},
   "outputs": [
    {
     "name": "stdout",
     "output_type": "stream",
     "text": [
      "     Март 2025\n",
      "Пн Вт Ср Чт Пт Сб Вс\n",
      "                1  2\n",
      " 3  4  5  6  7  8  9\n",
      "10 11 12 13 14 15 16\n",
      "17 18 19 20 21 22 23\n",
      "24 25 26 27 28 29 30\n",
      "31\n",
      "\n"
     ]
    }
   ],
   "source": [
    "#Вывод строчного календаря по месяцу\n",
    "print(calendar.month(2025,3))\n",
    "\n",
    "# #     Март 2025\n",
    "# Пн Вт Ср Чт Пт Сб Вс\n",
    "#                 1  2\n",
    "#  3  4  5  6  7  8  9\n",
    "# 10 11 12 13 14 15 16\n",
    "# 17 18 19 20 21 22 23\n",
    "# 24 25 26 27 28 29 30\n",
    "# 31"
   ]
  },
  {
   "cell_type": "code",
   "execution_count": 18,
   "metadata": {},
   "outputs": [
    {
     "name": "stdout",
     "output_type": "stream",
     "text": [
      "                                  2021\n",
      "\n",
      "       Январь                   Февраль                     Март\n",
      "Пн Вт Ср Чт Пт Сб Вс      Пн Вт Ср Чт Пт Сб Вс      Пн Вт Ср Чт Пт Сб Вс\n",
      "             1  2  3       1  2  3  4  5  6  7       1  2  3  4  5  6  7\n",
      " 4  5  6  7  8  9 10       8  9 10 11 12 13 14       8  9 10 11 12 13 14\n",
      "11 12 13 14 15 16 17      15 16 17 18 19 20 21      15 16 17 18 19 20 21\n",
      "18 19 20 21 22 23 24      22 23 24 25 26 27 28      22 23 24 25 26 27 28\n",
      "25 26 27 28 29 30 31                                29 30 31\n",
      "\n",
      "       Апрель                     Май                       Июнь\n",
      "Пн Вт Ср Чт Пт Сб Вс      Пн Вт Ср Чт Пт Сб Вс      Пн Вт Ср Чт Пт Сб Вс\n",
      "          1  2  3  4                      1  2          1  2  3  4  5  6\n",
      " 5  6  7  8  9 10 11       3  4  5  6  7  8  9       7  8  9 10 11 12 13\n",
      "12 13 14 15 16 17 18      10 11 12 13 14 15 16      14 15 16 17 18 19 20\n",
      "19 20 21 22 23 24 25      17 18 19 20 21 22 23      21 22 23 24 25 26 27\n",
      "26 27 28 29 30            24 25 26 27 28 29 30      28 29 30\n",
      "                          31\n",
      "\n",
      "        Июль                     Август                   Сентябрь\n",
      "Пн Вт Ср Чт Пт Сб Вс      Пн Вт Ср Чт Пт Сб Вс      Пн Вт Ср Чт Пт Сб Вс\n",
      "          1  2  3  4                         1             1  2  3  4  5\n",
      " 5  6  7  8  9 10 11       2  3  4  5  6  7  8       6  7  8  9 10 11 12\n",
      "12 13 14 15 16 17 18       9 10 11 12 13 14 15      13 14 15 16 17 18 19\n",
      "19 20 21 22 23 24 25      16 17 18 19 20 21 22      20 21 22 23 24 25 26\n",
      "26 27 28 29 30 31         23 24 25 26 27 28 29      27 28 29 30\n",
      "                          30 31\n",
      "\n",
      "      Октябрь                    Ноябрь                   Декабрь\n",
      "Пн Вт Ср Чт Пт Сб Вс      Пн Вт Ср Чт Пт Сб Вс      Пн Вт Ср Чт Пт Сб Вс\n",
      "             1  2  3       1  2  3  4  5  6  7             1  2  3  4  5\n",
      " 4  5  6  7  8  9 10       8  9 10 11 12 13 14       6  7  8  9 10 11 12\n",
      "11 12 13 14 15 16 17      15 16 17 18 19 20 21      13 14 15 16 17 18 19\n",
      "18 19 20 21 22 23 24      22 23 24 25 26 27 28      20 21 22 23 24 25 26\n",
      "25 26 27 28 29 30 31      29 30                     27 28 29 30 31\n",
      "\n"
     ]
    }
   ],
   "source": [
    "#Вывод строчного календаря по году\n",
    "print(calendar.calendar(2021))"
   ]
  },
  {
   "cell_type": "markdown",
   "metadata": {},
   "source": [
    "===========================================Решение задач==============================="
   ]
  },
  {
   "cell_type": "code",
   "execution_count": 5,
   "metadata": {},
   "outputs": [
    {
     "name": "stdout",
     "output_type": "stream",
     "text": [
      "False\n"
     ]
    }
   ],
   "source": [
    "import calendar\n",
    "years_total = int(input())\n",
    "years = [(False if calendar.isleap(int(input())) % 2 == 0 else True) for y in range(0,years_total)]\n",
    "res = [print(f) for f in years]\n"
   ]
  },
  {
   "cell_type": "code",
   "execution_count": 17,
   "metadata": {},
   "outputs": [
    {
     "name": "stdout",
     "output_type": "stream",
     "text": [
      "   December 2021\n",
      "Mo Tu We Th Fr Sa Su\n",
      "       1  2  3  4  5\n",
      " 6  7  8  9 10 11 12\n",
      "13 14 15 16 17 18 19\n",
      "20 21 22 23 24 25 26\n",
      "27 28 29 30 31\n",
      "\n"
     ]
    }
   ],
   "source": [
    "inp = input()\n",
    "year = int(inp.split(' ')[0])\n",
    "month = list(calendar.month_abbr).index(inp.split(' ')[1])\n",
    "print(calendar.month(year,month))"
   ]
  },
  {
   "cell_type": "code",
   "execution_count": 25,
   "metadata": {},
   "outputs": [
    {
     "name": "stdout",
     "output_type": "stream",
     "text": [
      "Friday\n"
     ]
    }
   ],
   "source": [
    "from datetime import datetime\n",
    "data = datetime.strptime(input(),'%Y-%m-%d')\n",
    "print(list(calendar.day_name)[data.weekday()])\n"
   ]
  },
  {
   "cell_type": "code",
   "execution_count": null,
   "metadata": {},
   "outputs": [
    {
     "name": "stdout",
     "output_type": "stream",
     "text": [
      "31\n"
     ]
    }
   ],
   "source": [
    "inp = input()\n",
    "year = int(inp.split(' ')[0])\n",
    "month = int(inp.split(' ')[1])\n",
    "m,total = calendar.monthrange(year=year,month=month)\n",
    "print(total)"
   ]
  },
  {
   "cell_type": "code",
   "execution_count": 27,
   "metadata": {},
   "outputs": [
    {
     "name": "stdout",
     "output_type": "stream",
     "text": [
      "31\n"
     ]
    }
   ],
   "source": [
    "inp = input()\n",
    "year = int(inp.split(' ')[0])\n",
    "month = list(calendar.month_name).index(inp.split(' ')[1])\n",
    "m,total = calendar.monthrange(year=year,month=month)\n",
    "print(total)"
   ]
  },
  {
   "cell_type": "code",
   "execution_count": 38,
   "metadata": {},
   "outputs": [
    {
     "data": {
      "text/plain": [
       "[datetime.date(2021, 12, 1),\n",
       " datetime.date(2021, 12, 2),\n",
       " datetime.date(2021, 12, 3),\n",
       " datetime.date(2021, 12, 4),\n",
       " datetime.date(2021, 12, 5),\n",
       " datetime.date(2021, 12, 6),\n",
       " datetime.date(2021, 12, 7),\n",
       " datetime.date(2021, 12, 8),\n",
       " datetime.date(2021, 12, 9),\n",
       " datetime.date(2021, 12, 10),\n",
       " datetime.date(2021, 12, 11),\n",
       " datetime.date(2021, 12, 12),\n",
       " datetime.date(2021, 12, 13),\n",
       " datetime.date(2021, 12, 14),\n",
       " datetime.date(2021, 12, 15),\n",
       " datetime.date(2021, 12, 16),\n",
       " datetime.date(2021, 12, 17),\n",
       " datetime.date(2021, 12, 18),\n",
       " datetime.date(2021, 12, 19),\n",
       " datetime.date(2021, 12, 20),\n",
       " datetime.date(2021, 12, 21),\n",
       " datetime.date(2021, 12, 22),\n",
       " datetime.date(2021, 12, 23),\n",
       " datetime.date(2021, 12, 24),\n",
       " datetime.date(2021, 12, 25),\n",
       " datetime.date(2021, 12, 26),\n",
       " datetime.date(2021, 12, 27),\n",
       " datetime.date(2021, 12, 28),\n",
       " datetime.date(2021, 12, 29),\n",
       " datetime.date(2021, 12, 30),\n",
       " datetime.date(2021, 12, 31)]"
      ]
     },
     "execution_count": 38,
     "metadata": {},
     "output_type": "execute_result"
    }
   ],
   "source": [
    "from datetime import date\n",
    "def get_days_in_month(year,month_str):\n",
    "    month = list(calendar.month_name).index(month_str)\n",
    "    m,last_day = calendar.monthrange(year=year,month=month)\n",
    "    res = [date(year=year,month=month,day=d) for d in range(1,last_day+1)]\n",
    "    return res\n",
    "year = 2021\n",
    "month = 'December'\n",
    "get_days_in_month(2021,month)\n",
    "\n"
   ]
  },
  {
   "cell_type": "code",
   "execution_count": 42,
   "metadata": {},
   "outputs": [
    {
     "data": {
      "text/plain": [
       "[datetime.date(2021, 1, 4),\n",
       " datetime.date(2021, 1, 11),\n",
       " datetime.date(2021, 1, 18),\n",
       " datetime.date(2021, 1, 25),\n",
       " datetime.date(2021, 2, 1),\n",
       " datetime.date(2021, 2, 8),\n",
       " datetime.date(2021, 2, 15),\n",
       " datetime.date(2021, 2, 22),\n",
       " datetime.date(2021, 3, 1),\n",
       " datetime.date(2021, 3, 8),\n",
       " datetime.date(2021, 3, 15),\n",
       " datetime.date(2021, 3, 22),\n",
       " datetime.date(2021, 3, 29),\n",
       " datetime.date(2021, 4, 5),\n",
       " datetime.date(2021, 4, 12),\n",
       " datetime.date(2021, 4, 19),\n",
       " datetime.date(2021, 4, 26),\n",
       " datetime.date(2021, 5, 3),\n",
       " datetime.date(2021, 5, 10),\n",
       " datetime.date(2021, 5, 17),\n",
       " datetime.date(2021, 5, 24),\n",
       " datetime.date(2021, 5, 31),\n",
       " datetime.date(2021, 6, 7),\n",
       " datetime.date(2021, 6, 14),\n",
       " datetime.date(2021, 6, 21),\n",
       " datetime.date(2021, 6, 28),\n",
       " datetime.date(2021, 7, 5),\n",
       " datetime.date(2021, 7, 12),\n",
       " datetime.date(2021, 7, 19),\n",
       " datetime.date(2021, 7, 26),\n",
       " datetime.date(2021, 8, 2),\n",
       " datetime.date(2021, 8, 9),\n",
       " datetime.date(2021, 8, 16),\n",
       " datetime.date(2021, 8, 23),\n",
       " datetime.date(2021, 8, 30),\n",
       " datetime.date(2021, 9, 6),\n",
       " datetime.date(2021, 9, 13),\n",
       " datetime.date(2021, 9, 20),\n",
       " datetime.date(2021, 9, 27),\n",
       " datetime.date(2021, 10, 4),\n",
       " datetime.date(2021, 10, 11),\n",
       " datetime.date(2021, 10, 18),\n",
       " datetime.date(2021, 10, 25),\n",
       " datetime.date(2021, 11, 1),\n",
       " datetime.date(2021, 11, 8),\n",
       " datetime.date(2021, 11, 15),\n",
       " datetime.date(2021, 11, 22),\n",
       " datetime.date(2021, 11, 29),\n",
       " datetime.date(2021, 12, 6),\n",
       " datetime.date(2021, 12, 13),\n",
       " datetime.date(2021, 12, 20),\n",
       " datetime.date(2021, 12, 27)]"
      ]
     },
     "execution_count": 42,
     "metadata": {},
     "output_type": "execute_result"
    }
   ],
   "source": [
    "from datetime import date\n",
    "def get_all_mondays(year):\n",
    "    res = []\n",
    "    for month in range(1,13):\n",
    "        m,last_day = calendar.monthrange(year=year,month=month)\n",
    "        for d in range(1,last_day+1):\n",
    "            if (date(year=year,month=month,day=d).weekday() == 0):\n",
    "                res.append(date(year=year,month=month,day=d))\n",
    "    return res\n",
    "    \n",
    "year = 2021\n",
    "get_all_mondays(2021)\n"
   ]
  }
 ],
 "metadata": {
  "kernelspec": {
   "display_name": "base",
   "language": "python",
   "name": "python3"
  },
  "language_info": {
   "codemirror_mode": {
    "name": "ipython",
    "version": 3
   },
   "file_extension": ".py",
   "mimetype": "text/x-python",
   "name": "python",
   "nbconvert_exporter": "python",
   "pygments_lexer": "ipython3",
   "version": "3.11.7"
  }
 },
 "nbformat": 4,
 "nbformat_minor": 2
}
