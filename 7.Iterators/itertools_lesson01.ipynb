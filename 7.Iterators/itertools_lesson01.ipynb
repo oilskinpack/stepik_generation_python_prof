{
 "cells": [
  {
   "cell_type": "code",
   "execution_count": 2,
   "id": "ceef2578",
   "metadata": {},
   "outputs": [
    {
     "name": "stdout",
     "output_type": "stream",
     "text": [
      "0\n",
      "1 2 3\n"
     ]
    }
   ],
   "source": [
    "from itertools import count\n",
    "\n",
    "count1 = count()\n",
    "\n",
    "print(next(count1))                             #0\n",
    "print(next(count1), next(count1), next(count1)) #1 2 3\n",
    "\n",
    "#Порождает бесконечный итератор от 0"
   ]
  },
  {
   "cell_type": "code",
   "execution_count": 3,
   "id": "b48d0877",
   "metadata": {},
   "outputs": [
    {
     "name": "stdout",
     "output_type": "stream",
     "text": [
      "69\n",
      "79\n"
     ]
    }
   ],
   "source": [
    "count2 = count(69, 10)\n",
    "\n",
    "print(next(count2))\n",
    "print(next(count2))\n",
    "\n",
    "#Порождает бесконечный итератор от 69 с шагом 10\n",
    "#Шаг и старт может быть double"
   ]
  },
  {
   "cell_type": "code",
   "execution_count": 4,
   "id": "b5ec7cd4",
   "metadata": {},
   "outputs": [
    {
     "name": "stdout",
     "output_type": "stream",
     "text": [
      "1 2 3 1 2\n"
     ]
    }
   ],
   "source": [
    "from itertools import cycle\n",
    "\n",
    "cycle_iter = cycle([1,2,3])\n",
    "\n",
    "print(next(cycle_iter), next(cycle_iter), next(cycle_iter), next(cycle_iter), next(cycle_iter))     #1 2 3 1 2\n",
    "\n",
    "\n",
    "#Cycle() создает бесконечный цикл, перебирающий список "
   ]
  },
  {
   "cell_type": "code",
   "execution_count": 5,
   "id": "a1c1a6e0",
   "metadata": {},
   "outputs": [
    {
     "name": "stdout",
     "output_type": "stream",
     "text": [
      "bee-and-geek\n",
      "bee-and-geek\n",
      "bee-and-geek\n",
      "bee-and-geek\n",
      "bee-and-geek\n"
     ]
    }
   ],
   "source": [
    "from itertools import repeat\n",
    "\n",
    "for i in repeat('bee-and-geek', 5):\n",
    "    print(i)\n",
    "\n",
    "#Повторяет переданное значение нужное кол-во раз"
   ]
  },
  {
   "cell_type": "code",
   "execution_count": null,
   "id": "5c63271b",
   "metadata": {},
   "outputs": [
    {
     "name": "stdout",
     "output_type": "stream",
     "text": [
      "0 bee-and-geek\n",
      "1 bee-and-geek\n",
      "2 bee-and-geek\n",
      "3 bee-and-geek\n",
      "4 bee-and-geek\n"
     ]
    }
   ],
   "source": [
    "for i, s in zip(count(), repeat('bee-and-geek',5)):\n",
    "    print(i,s)\n",
    "\n",
    "# 0 bee-and-geek\n",
    "# 1 bee-and-geek\n",
    "# 2 bee-and-geek\n",
    "# 3 bee-and-geek\n",
    "# 4 bee-and-geek\n",
    "\n",
    "#Пример использования repeat в zip"
   ]
  },
  {
   "cell_type": "code",
   "execution_count": null,
   "id": "e68390c8",
   "metadata": {},
   "outputs": [
    {
     "data": {
      "text/plain": [
       "['Timur Guev', 'Arthur Kharisov']"
      ]
     },
     "execution_count": 10,
     "metadata": {},
     "output_type": "execute_result"
    }
   ],
   "source": [
    "from itertools import starmap\n",
    "\n",
    "persons = [('Timur', 'Guev'), ('Arthur', 'Kharisov')]\n",
    "\n",
    "full_names = list(starmap(lambda name, surname: f'{name} {surname}', persons))\n",
    "full_names      #['Timur Guev', 'Arthur Kharisov']\n",
    "\n",
    "#Функция starmap аналогична map, но может перебирать итерируемые объекты"
   ]
  },
  {
   "cell_type": "code",
   "execution_count": null,
   "id": "c0a9240f",
   "metadata": {},
   "outputs": [
    {
     "name": "stdout",
     "output_type": "stream",
     "text": [
      "[3, 7, 13, 15, 16, 25, 25, 32, 37, 45]\n",
      "[3, 4, 6, 6, 6, 9, 9, 9, 9, 9]\n"
     ]
    }
   ],
   "source": [
    "from itertools import accumulate\n",
    "\n",
    "data = [3, 4, 6, 2, 1, 9, 0, 7, 5, 8]\n",
    "\n",
    "print(list(accumulate(data)))           #[3, 7, 13, 15, 16, 25, 25, 32, 37, 45]\n",
    "print(list(accumulate(data, max)))      #[3, 4, 6, 6, 6, 9, 9, 9, 9, 9]\n",
    "\n",
    "#Accumulate проходится функцией по каждому элементу и выводит накопленный результат\n",
    "#То есть если по умолчанию сложение - будут складываться предыдущие суммы"
   ]
  },
  {
   "cell_type": "code",
   "execution_count": null,
   "id": "fb00d3a0",
   "metadata": {},
   "outputs": [
    {
     "name": "stdout",
     "output_type": "stream",
     "text": [
      "[100, 101, 103, 106, 110, 115]\n"
     ]
    }
   ],
   "source": [
    "print(list(accumulate([1, 2, 3, 4, 5], initial=100)))\n",
    "\n",
    "#inital - начальное значение"
   ]
  },
  {
   "cell_type": "code",
   "execution_count": null,
   "id": "69e6f675",
   "metadata": {},
   "outputs": [],
   "source": [
    "import itertools as it\n",
    "\n",
    "#Обычно импортируют так"
   ]
  }
 ],
 "metadata": {
  "kernelspec": {
   "display_name": "base",
   "language": "python",
   "name": "python3"
  },
  "language_info": {
   "codemirror_mode": {
    "name": "ipython",
    "version": 3
   },
   "file_extension": ".py",
   "mimetype": "text/x-python",
   "name": "python",
   "nbconvert_exporter": "python",
   "pygments_lexer": "ipython3",
   "version": "3.11.7"
  }
 },
 "nbformat": 4,
 "nbformat_minor": 5
}
