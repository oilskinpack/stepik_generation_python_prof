{
 "cells": [
  {
   "cell_type": "code",
   "execution_count": null,
   "id": "3c5f78ed",
   "metadata": {},
   "outputs": [
    {
     "name": "stdout",
     "output_type": "stream",
     "text": [
      "A B C D E F\n"
     ]
    }
   ],
   "source": [
    "from itertools import chain\n",
    "\n",
    "chain_iter1 = chain('ABC','DEF')\n",
    "print(*chain_iter1)\n",
    "\n",
    "#Функция chain последовательно перебирает элементы каждого итерируемого объекта"
   ]
  },
  {
   "cell_type": "code",
   "execution_count": null,
   "id": "a57fa856",
   "metadata": {},
   "outputs": [
    {
     "name": "stdout",
     "output_type": "stream",
     "text": [
      "T i m u r 2 9 M a l e T e a c h e r\n"
     ]
    }
   ],
   "source": [
    "from itertools import chain\n",
    "\n",
    "chain_iter2 = chain.from_iterable(['Timur', '29', 'Male', 'Teacher'])\n",
    "print(*chain_iter2)\n",
    "\n",
    "#Функция chain.from_iterable последовательно перебирает элементы каждого вложенного итерируемого объекта\n",
    "#!!! Если объект неитерируемый внутри - будет ошибка"
   ]
  },
  {
   "cell_type": "code",
   "execution_count": null,
   "id": "4acbc6a2",
   "metadata": {},
   "outputs": [
    {
     "name": "stdout",
     "output_type": "stream",
     "text": [
      "(1, 'a') (2, 'b') (3, 'c')\n",
      "(1, 'a') (2, 'b') (3, 'c') (None, 'd') (None, 'e')\n",
      "(1, 'a') (2, 'b') (3, 'c') ('*', 'd') ('*', 'e')\n"
     ]
    }
   ],
   "source": [
    "from itertools import zip_longest\n",
    "\n",
    "print(*zip([1, 2, 3], ['a', 'b', 'c', 'd', 'e']))\n",
    "print(*zip_longest([1, 2, 3], ['a', 'b', 'c', 'd', 'e']))                     # fillvalue=None\n",
    "print(*zip_longest([1, 2, 3], ['a', 'b', 'c', 'd', 'e'], fillvalue='*'))\n",
    "\n",
    "#Собирает в кортежи по очереди элементы итерируемых объектов, при этом если список заказчивается - берет fillvalue"
   ]
  },
  {
   "cell_type": "code",
   "execution_count": null,
   "id": "86520be9",
   "metadata": {},
   "outputs": [
    {
     "name": "stdout",
     "output_type": "stream",
     "text": [
      "<class 'tuple'>\n",
      "2 3 4 5 6\n",
      "2 3 4 5 6\n",
      "2 3 4 5 6\n",
      "2 3 4 5 6\n",
      "2 3 4 5 6\n"
     ]
    }
   ],
   "source": [
    "from itertools import tee\n",
    "\n",
    "result = tee(range(2, 7), 5)\n",
    "print(type(result))\n",
    "\n",
    "for i in result:\n",
    "    print(*i)\n",
    "\n",
    "#Функция tee создает несколько независимых итераторов (сколько укажешь) на основе итерируемого объекта"
   ]
  },
  {
   "cell_type": "code",
   "execution_count": null,
   "id": "4daee6f5",
   "metadata": {},
   "outputs": [
    {
     "name": "stdout",
     "output_type": "stream",
     "text": [
      "('A', 'B') ('B', 'C') ('C', 'D') ('D', 'E') ('E', 'F') ('F', 'G')\n",
      "(1, 2) (2, 3) (3, 4) (4, 5)\n"
     ]
    }
   ],
   "source": [
    "from itertools import pairwise\n",
    "\n",
    "print(*pairwise('ABCDEFG'))\n",
    "print(*pairwise([1, 2, 3, 4, 5]))\n",
    "\n",
    "#По очереди создает перекрывающеся пары в виде кортежей"
   ]
  },
  {
   "cell_type": "code",
   "execution_count": 11,
   "id": "8c7f3b32",
   "metadata": {},
   "outputs": [
    {
     "name": "stdout",
     "output_type": "stream",
     "text": [
      "3\n",
      "6\n"
     ]
    }
   ],
   "source": [
    "from itertools import tee\n",
    "\n",
    "iters = tee([1, 2, 3], 3)\n",
    "\n",
    "totals = map(lambda a, b, c: a + b + c, *iters)\n",
    "\n",
    "print(next(totals))\n",
    "print(next(totals))"
   ]
  }
 ],
 "metadata": {
  "kernelspec": {
   "display_name": "base",
   "language": "python",
   "name": "python3"
  },
  "language_info": {
   "codemirror_mode": {
    "name": "ipython",
    "version": 3
   },
   "file_extension": ".py",
   "mimetype": "text/x-python",
   "name": "python",
   "nbconvert_exporter": "python",
   "pygments_lexer": "ipython3",
   "version": "3.11.7"
  }
 },
 "nbformat": 4,
 "nbformat_minor": 5
}
