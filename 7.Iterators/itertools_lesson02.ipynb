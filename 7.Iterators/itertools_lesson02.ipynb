{
 "cells": [
  {
   "cell_type": "code",
   "execution_count": null,
   "id": "938c022a",
   "metadata": {},
   "outputs": [
    {
     "name": "stdout",
     "output_type": "stream",
     "text": [
      "[6, 7, 8, 9, 10, 1, 2, 3]\n"
     ]
    }
   ],
   "source": [
    "from itertools import dropwhile\n",
    "\n",
    "numbers = [1,1,2,3,4,4,5,6,7,8,9,10,1,2,3]\n",
    "new_numbers = list(dropwhile(lambda num: num <=5,numbers))\n",
    "\n",
    "print(new_numbers)\n",
    "\n",
    "#dropwhile - функция, которая будет дропать значения, пока не получит False, далее начинает возвращать"
   ]
  },
  {
   "cell_type": "code",
   "execution_count": null,
   "id": "464643d1",
   "metadata": {},
   "outputs": [
    {
     "name": "stdout",
     "output_type": "stream",
     "text": [
      "[1, 1, 2, 3, 4, 4, 5]\n"
     ]
    }
   ],
   "source": [
    "from itertools import takewhile\n",
    "\n",
    "numbers = [1,1,2,3,4,4,5,6,7,8,9,10,1,2,3]\n",
    "new_numbers = list(takewhile(lambda num: num <=5,numbers))\n",
    "\n",
    "print(new_numbers)\n",
    "\n",
    "#takewhile - как dropwhile, только наоборот"
   ]
  },
  {
   "cell_type": "code",
   "execution_count": 1,
   "id": "4a003c3c",
   "metadata": {},
   "outputs": [
    {
     "name": "stdout",
     "output_type": "stream",
     "text": [
      "[6, 7, 8, 9, 10]\n"
     ]
    }
   ],
   "source": [
    "from itertools import filterfalse\n",
    "\n",
    "numbers = [1,1,2,3,4,4,5,6,7,8,9,10,1,2,3]\n",
    "new_numbers = list(filterfalse(lambda num: num <=5,numbers))\n",
    "\n",
    "print(new_numbers)\n",
    "\n",
    "#filterfalse - функция, противоположная filter"
   ]
  },
  {
   "cell_type": "code",
   "execution_count": 4,
   "id": "c0550b06",
   "metadata": {},
   "outputs": [
    {
     "name": "stdout",
     "output_type": "stream",
     "text": [
      "['A', 'C', 'E']\n"
     ]
    }
   ],
   "source": [
    "from itertools import compress\n",
    "\n",
    "data = 'ABCDEF'\n",
    "selectors = [True, False, True, False, True, False]\n",
    "\n",
    "result = compress(data, selectors)\n",
    "print(list(result))\n",
    "\n",
    "#Работает как filterByBoolMask в динамо"
   ]
  },
  {
   "cell_type": "code",
   "execution_count": null,
   "id": "19c6dd6e",
   "metadata": {},
   "outputs": [
    {
     "name": "stdout",
     "output_type": "stream",
     "text": [
      "0 1 2 3 4 5 6 7 8 9\n",
      "0 1 2 3 4\n",
      "5 6 7 8 9\n",
      "0 10 20 30 40 50 60 70 80 90\n"
     ]
    }
   ],
   "source": [
    "from itertools import islice\n",
    "\n",
    "print(*islice(range(10), None))     #0 1 2 3 4 5 6 7 8 9\n",
    "print(*islice(range(100), 5))       #0 1 2 3 4\n",
    "print(*islice(range(100), 5, 10))   #5 6 7 8 9\n",
    "print(*islice(range(100), 0, 100, 10)) #0 10 20 30 40 50 60 70 80 90\n",
    "\n",
    "#Позволяет получать срезы итерируемых объектов, параметры - (start, stop и step)\n"
   ]
  }
 ],
 "metadata": {
  "kernelspec": {
   "display_name": "base",
   "language": "python",
   "name": "python3"
  },
  "language_info": {
   "codemirror_mode": {
    "name": "ipython",
    "version": 3
   },
   "file_extension": ".py",
   "mimetype": "text/x-python",
   "name": "python",
   "nbconvert_exporter": "python",
   "pygments_lexer": "ipython3",
   "version": "3.11.7"
  }
 },
 "nbformat": 4,
 "nbformat_minor": 5
}
