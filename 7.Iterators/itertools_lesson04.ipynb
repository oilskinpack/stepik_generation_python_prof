{
 "cells": [
  {
   "cell_type": "code",
   "execution_count": null,
   "id": "4af057b8",
   "metadata": {},
   "outputs": [
    {
     "name": "stdout",
     "output_type": "stream",
     "text": [
      "1: [1, 1, 1]\n",
      "7: [7, 7, 7, 7]\n",
      "15: [15]\n",
      "7: [7, 7, 7]\n"
     ]
    }
   ],
   "source": [
    "from itertools import groupby\n",
    "\n",
    "numbers = [1, 1, 1, 7, 7, 7, 7, 15, 7, 7, 7]\n",
    "\n",
    "group_iter = groupby(numbers)\n",
    "\n",
    "for key, values in group_iter:\n",
    "    print(f'{key}: {list(values)}')            # преобразуем итератор в список\n",
    "\n",
    "#Объект Groupby превращает итерируемый объект в словарь где значение - это итератор со значениями\n",
    "#Если не задать ключ - будет группироваться по значениям\n",
    "\n",
    "\n",
    "#Обрати внимание - две группы с цифрой 7. Чтобы они упали в одну группу - нужно делать сначала сортировку"
   ]
  },
  {
   "cell_type": "code",
   "execution_count": null,
   "id": "0f330901",
   "metadata": {},
   "outputs": [
    {
     "name": "stdout",
     "output_type": "stream",
     "text": [
      "1: [1, 1, 1]\n",
      "7: [7, 7, 7, 7, 7, 7, 7]\n",
      "15: [15]\n"
     ]
    }
   ],
   "source": [
    "from itertools import groupby\n",
    "\n",
    "numbers = [1, 1, 1, 7, 7, 7, 7, 15, 7, 7, 7]\n",
    "\n",
    "group_iter = groupby(sorted(numbers))\n",
    "\n",
    "for key, values in group_iter:\n",
    "    print(f'{key}: {list(values)}')            # преобразуем итератор в список\n",
    "\n",
    "#Теперь всё упало в одну группу"
   ]
  },
  {
   "cell_type": "code",
   "execution_count": null,
   "id": "627ab5fd",
   "metadata": {},
   "outputs": [
    {
     "name": "stdout",
     "output_type": "stream",
     "text": [
      "False: [15]\n",
      "True: [1, 1, 1, 7, 7, 7, 7, 7, 7, 7]\n"
     ]
    }
   ],
   "source": [
    "from itertools import groupby\n",
    "\n",
    "numbers = [1, 1, 1, 7, 7, 7, 7, 15, 7, 7, 7]\n",
    "\n",
    "key_func = lambda num: num < 10\n",
    "\n",
    "group_iter = groupby(sorted(numbers, key=key_func), key=key_func)\n",
    "\n",
    "for key, values in group_iter:\n",
    "    print(f'{key}: {list(values)}')\n",
    "\n",
    "#Используем в качестве ключа проверку на тождество, чтобы получилось 2 стройные группы Да и Нет"
   ]
  },
  {
   "cell_type": "code",
   "execution_count": null,
   "id": "944941c8",
   "metadata": {},
   "outputs": [
    {
     "name": "stdout",
     "output_type": "stream",
     "text": [
      "['A', 'B', 'C', 'D', 'A', 'B']\n"
     ]
    }
   ],
   "source": [
    "from itertools import groupby\n",
    "\n",
    "data = ['A', 'A', 'A', 'A', 'B', 'B', 'B', 'C', 'C', 'D', 'A', 'A', 'B', 'B', 'B']\n",
    "\n",
    "result = [key for key, group in groupby(data)] \n",
    "\n",
    "print(result)\n",
    "\n",
    "#Удаляем дубликаты идущие подряд (вытаскиваем только ключи)"
   ]
  },
  {
   "cell_type": "code",
   "execution_count": 5,
   "id": "a614f9c3",
   "metadata": {},
   "outputs": [
    {
     "name": "stdout",
     "output_type": "stream",
     "text": [
      "['A', 'B', 'C', 'D']\n"
     ]
    }
   ],
   "source": [
    "from itertools import groupby\n",
    "\n",
    "data = ['A', 'A', 'A', 'A', 'B', 'B', 'B', 'C', 'C', 'D', 'A', 'A', 'B', 'B', 'B']\n",
    "\n",
    "result = [key for key, group in groupby(sorted(data))] \n",
    "\n",
    "print(result)\n",
    "\n",
    "#Получаем только уникальные значения"
   ]
  }
 ],
 "metadata": {
  "kernelspec": {
   "display_name": "base",
   "language": "python",
   "name": "python3"
  },
  "language_info": {
   "codemirror_mode": {
    "name": "ipython",
    "version": 3
   },
   "file_extension": ".py",
   "mimetype": "text/x-python",
   "name": "python",
   "nbconvert_exporter": "python",
   "pygments_lexer": "ipython3",
   "version": "3.11.7"
  }
 },
 "nbformat": 4,
 "nbformat_minor": 5
}
