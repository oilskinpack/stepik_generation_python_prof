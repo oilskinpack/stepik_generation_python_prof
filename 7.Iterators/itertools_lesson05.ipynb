{
 "cells": [
  {
   "cell_type": "code",
   "execution_count": null,
   "id": "ef34cae5",
   "metadata": {},
   "outputs": [
    {
     "name": "stdout",
     "output_type": "stream",
     "text": [
      "[('c', 'b'), ('b', 'c')]\n"
     ]
    }
   ],
   "source": [
    "from itertools import permutations\n",
    "\n",
    "letters = 'cb'\n",
    "all_let_permutations = permutations(letters)\n",
    "\n",
    "print(list(all_let_permutations))\n",
    "\n",
    "#Создаем все доступные комбинации (зеркальные тоже считаются)"
   ]
  },
  {
   "cell_type": "code",
   "execution_count": null,
   "id": "58b2072e",
   "metadata": {},
   "outputs": [
    {
     "name": "stdout",
     "output_type": "stream",
     "text": [
      "[('c', 'b'), ('c', 'u'), ('b', 'c'), ('b', 'u'), ('u', 'c'), ('u', 'b')]\n"
     ]
    }
   ],
   "source": [
    "from itertools import permutations\n",
    "\n",
    "letters = 'cbu'\n",
    "all_let_permutations = permutations(letters,2)\n",
    "\n",
    "print(list(all_let_permutations))\n",
    "\n",
    "#Создает все доступные комбинации,но заданной длины"
   ]
  },
  {
   "cell_type": "code",
   "execution_count": null,
   "id": "c55caa4a",
   "metadata": {},
   "outputs": [
    {
     "name": "stdout",
     "output_type": "stream",
     "text": [
      "[('c', 'b')]\n"
     ]
    }
   ],
   "source": [
    "from itertools import combinations\n",
    "\n",
    "letters = 'cb'\n",
    "all_let_permutations = combinations(letters,r=2)\n",
    "\n",
    "print(list(all_let_permutations))\n",
    "\n",
    "#Создаем все доступные комбинации (зеркальные НЕ СЧИТАЮТСЯ)"
   ]
  },
  {
   "cell_type": "code",
   "execution_count": null,
   "id": "941960d1",
   "metadata": {},
   "outputs": [
    {
     "name": "stdout",
     "output_type": "stream",
     "text": [
      "[('c', 'c'), ('c', 'b'), ('c', 'e'), ('b', 'b'), ('b', 'e'), ('e', 'e')]\n"
     ]
    }
   ],
   "source": [
    "from itertools import combinations_with_replacement\n",
    "\n",
    "letters = 'cbe'\n",
    "all_let_permutations = combinations_with_replacement(letters,r=2)\n",
    "\n",
    "print(list(all_let_permutations))\n",
    "\n",
    "#Создаем все доступные комбинации (зеркальные считаются и ДУБЛИ СЧИТАЮТСЯ)"
   ]
  },
  {
   "cell_type": "code",
   "execution_count": null,
   "id": "57b2501d",
   "metadata": {},
   "outputs": [
    {
     "name": "stdout",
     "output_type": "stream",
     "text": [
      "[(1, 'x'), (1, 'y'), (1, 'z'), (2, 'x'), (2, 'y'), (2, 'z')]\n"
     ]
    }
   ],
   "source": [
    "from itertools import product\n",
    "\n",
    "numbers = [1, 2]\n",
    "letters = ['x', 'y', 'z']\n",
    "\n",
    "print(list(product(numbers, letters)))\n",
    "\n",
    "#Декартово произведение - каждый с каждым"
   ]
  }
 ],
 "metadata": {
  "kernelspec": {
   "display_name": "base",
   "language": "python",
   "name": "python3"
  },
  "language_info": {
   "codemirror_mode": {
    "name": "ipython",
    "version": 3
   },
   "file_extension": ".py",
   "mimetype": "text/x-python",
   "name": "python",
   "nbconvert_exporter": "python",
   "pygments_lexer": "ipython3",
   "version": "3.11.7"
  }
 },
 "nbformat": 4,
 "nbformat_minor": 5
}
