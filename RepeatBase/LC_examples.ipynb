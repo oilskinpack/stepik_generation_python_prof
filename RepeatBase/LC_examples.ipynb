{
 "cells": [
  {
   "cell_type": "code",
   "execution_count": null,
   "metadata": {},
   "outputs": [],
   "source": [
    "#List Comprehension - генератор списков\n",
    "\n",
    "#Синтаксис:\n",
    "#new_list = [expression for item in iterable if condition]\n",
    "\n",
    "#expression - выражение, модифицирующее элемент\n",
    "#item - текущий элемент в итераторе\n",
    "#iterable - итератор\n",
    "#if condition - необязательное условие для фильтрации"
   ]
  },
  {
   "cell_type": "code",
   "execution_count": null,
   "metadata": {},
   "outputs": [
    {
     "name": "stdout",
     "output_type": "stream",
     "text": [
      "[0, 2, 4, 6, 8]\n",
      "[0, 2, 4, 6, 8]\n"
     ]
    }
   ],
   "source": [
    "#1 Генерация листа\n",
    "#Массивом\n",
    "numbers = []\n",
    "for i in range(5):\n",
    "    numbers.append(i * 2)\n",
    "print(numbers)  #[0, 2, 4, 6, 8]\n",
    "\n",
    "#LC\n",
    "numbers = [i * 2 for i in range(5)]\n",
    "print(numbers)  #[0, 2, 4, 6, 8]"
   ]
  },
  {
   "cell_type": "code",
   "execution_count": null,
   "metadata": {},
   "outputs": [
    {
     "name": "stdout",
     "output_type": "stream",
     "text": [
      "[0, 2, 4, 6, 8]\n",
      "[0, 2, 4, 6, 8]\n"
     ]
    }
   ],
   "source": [
    "#2 Фильтрация\n",
    "#Массивом\n",
    "numbers = []\n",
    "for i in range(10):\n",
    "    if(i % 2 == 0):\n",
    "        numbers.append(i)\n",
    "    \n",
    "print(numbers)  #[0, 2, 4, 6, 8]\n",
    "\n",
    "#LC\n",
    "numbers = []\n",
    "numbers = [i for i in range(10) if i % 2 ==0]\n",
    "print(numbers)  #[0, 2, 4, 6, 8]"
   ]
  },
  {
   "cell_type": "code",
   "execution_count": null,
   "metadata": {},
   "outputs": [
    {
     "name": "stdout",
     "output_type": "stream",
     "text": [
      "['ЧЕТ', 'НЕЧЕТ', 'ЧЕТ', 'НЕЧЕТ', 'ЧЕТ', 'НЕЧЕТ']\n",
      "['ЧЕТ', 'НЕЧЕТ', 'ЧЕТ', 'НЕЧЕТ', 'ЧЕТ', 'НЕЧЕТ']\n"
     ]
    }
   ],
   "source": [
    "#3 if else\n",
    "#Массивом\n",
    "res = []\n",
    "for i in range(6):\n",
    "    if(i % 2 == 0):\n",
    "        res.append('ЧЕТ')\n",
    "    else:\n",
    "        res.append(\"НЕЧЕТ\")\n",
    "print(res)  #['ЧЕТ', 'НЕЧЕТ', 'ЧЕТ', 'НЕЧЕТ', 'ЧЕТ', 'НЕЧЕТ']\n",
    "\n",
    "#LC\n",
    "res = [(\"ЧЕТ\" if i % 2 == 0 else \"НЕЧЕТ\") for i in range(6)]\n",
    "print(res)  #['ЧЕТ', 'НЕЧЕТ', 'ЧЕТ', 'НЕЧЕТ', 'ЧЕТ', 'НЕЧЕТ']"
   ]
  },
  {
   "cell_type": "code",
   "execution_count": null,
   "metadata": {},
   "outputs": [
    {
     "name": "stdout",
     "output_type": "stream",
     "text": [
      "[(1, 1), (1, 2), (1, 3), (2, 1), (2, 2), (2, 3), (3, 1), (3, 2), (3, 3)]\n",
      "[(1, 1), (1, 2), (1, 3), (2, 1), (2, 2), (2, 3), (3, 1), (3, 2), (3, 3)]\n"
     ]
    }
   ],
   "source": [
    "#4 Вложенный цикл\n",
    "#Массивом\n",
    "pairs = []\n",
    "for x in range(1,4):\n",
    "    for y in range(1,4):\n",
    "        pairs.append((x,y))\n",
    "\n",
    "print(pairs) #[(1, 1), (1, 2), (1, 3), (2, 1), (2, 2), (2, 3), (3, 1), (3, 2), (3, 3)]\n",
    "\n",
    "#LC\n",
    "pairs = [(x,y) for x in range(1,4) for y in range(1,4)]\n",
    "print(pairs) #[(1, 1), (1, 2), (1, 3), (2, 1), (2, 2), (2, 3), (3, 1), (3, 2), (3, 3)]\n"
   ]
  },
  {
   "cell_type": "code",
   "execution_count": null,
   "metadata": {},
   "outputs": [
    {
     "name": "stdout",
     "output_type": "stream",
     "text": [
      "{0, 1, 2, 3, 4, 5}\n",
      "{0, 1, 2, 3, 4, 5}\n"
     ]
    }
   ],
   "source": [
    "#5 Генерация Set\n",
    "my_set = set()\n",
    "for x in range(6):\n",
    "    my_set.add(x)\n",
    "\n",
    "print(my_set) #{0, 1, 2, 3, 4, 5}\n",
    "\n",
    "my_set = {i for i in range(6)}\n",
    "print(my_set) #{0, 1, 2, 3, 4, 5}"
   ]
  },
  {
   "cell_type": "code",
   "execution_count": 20,
   "metadata": {},
   "outputs": [
    {
     "name": "stdout",
     "output_type": "stream",
     "text": [
      "{0: 0, 1: 2, 2: 4, 3: 6, 4: 8, 5: 10}\n",
      "{0: 0, 1: 2, 2: 4, 3: 6, 4: 8, 5: 10}\n"
     ]
    }
   ],
   "source": [
    "#6 Генерация словаря\n",
    "my_dict = {}\n",
    "for x in range(6):\n",
    "    my_dict[x] = x * 2  \n",
    "\n",
    "print(my_dict) #{0: 0, 1: 2, 2: 4, 3: 6, 4: 8, 5: 10}\n",
    "\n",
    "#LC\n",
    "my_dict = {i: i*2 for i in range(6)}\n",
    "print(my_dict) #{0: 0, 1: 2, 2: 4, 3: 6, 4: 8, 5: 10}"
   ]
  },
  {
   "cell_type": "code",
   "execution_count": null,
   "metadata": {},
   "outputs": [],
   "source": []
  }
 ],
 "metadata": {
  "kernelspec": {
   "display_name": "base",
   "language": "python",
   "name": "python3"
  },
  "language_info": {
   "codemirror_mode": {
    "name": "ipython",
    "version": 3
   },
   "file_extension": ".py",
   "mimetype": "text/x-python",
   "name": "python",
   "nbconvert_exporter": "python",
   "pygments_lexer": "ipython3",
   "version": "3.11.7"
  }
 },
 "nbformat": 4,
 "nbformat_minor": 2
}
