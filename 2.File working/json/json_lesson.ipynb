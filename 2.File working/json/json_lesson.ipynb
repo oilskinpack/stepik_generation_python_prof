{
 "cells": [
  {
   "cell_type": "code",
   "execution_count": 9,
   "metadata": {},
   "outputs": [],
   "source": [
    "#JSON (англ. JavaScript Object Notation) — текстовый формат обмена данными, основанный на языке программирования JavaScript. \n",
    "# Как и многие другие текстовые форматы, JSON легко читается людьми. \n",
    "# Несмотря на происхождение от JavaScript, \n",
    "# формат считается независимым от языка и может использоваться практически с любым языком программирования"
   ]
  },
  {
   "cell_type": "code",
   "execution_count": 1,
   "metadata": {},
   "outputs": [],
   "source": [
    "# В качестве значений в JSON могут быть использованы:\n",
    "\n",
    "# число (целое или вещественное)\n",
    "# литералы true (истина), false (ложь), null (отсутствие значения)\n",
    "# строка (последовательность символов, заключенная в двойные кавычки)\n",
    "# список (заключается в квадратные скобки [ ], значения разделяются запятыми). \n",
    "#   Список может быть пустым, значения в пределах одного списка могут иметь разный тип\n",
    "# вложенный объект (неупорядоченное множество пар ключ: значение, заключённое в фигурные скобки { }). \n",
    "#   Ключ описывается строкой, между ним и значением стоит символ :.\n",
    "#    Пары ключ-значение отделяются друг от друга запятыми."
   ]
  },
  {
   "cell_type": "code",
   "execution_count": 2,
   "metadata": {},
   "outputs": [
    {
     "name": "stdout",
     "output_type": "stream",
     "text": [
      "<class 'str'>\n",
      "{\"name\": \"Russia\", \"capital\": \"Moscow\", \"currency\": \"RUB\"}\n"
     ]
    }
   ],
   "source": [
    "#Сериализация в JSON\n",
    "import json\n",
    "\n",
    "data = {'name':'Russia','capital':'Moscow','currency':'RUB'}\n",
    "json_data = json.dumps(data)\n",
    "\n",
    "print(type(json_data)) #<class 'str'>\n",
    "print(json_data)       #{\"name\": \"Russia\", \"capital\": \"Moscow\", \"currency\": \"RUB\"}"
   ]
  },
  {
   "cell_type": "code",
   "execution_count": 3,
   "metadata": {},
   "outputs": [],
   "source": [
    "#Сохранение файла\n",
    "data = {'name': 'Russia', 'phone_code': 7, 'capital': 'Moscow', 'currency': 'RUB'}\n",
    "\n",
    "with open(r'countries.json','w') as file:\n",
    "    json.dump(data,file)"
   ]
  },
  {
   "cell_type": "code",
   "execution_count": 4,
   "metadata": {},
   "outputs": [
    {
     "name": "stdout",
     "output_type": "stream",
     "text": [
      "{\n",
      "   \"name\": \"Russia\",\n",
      "   \"capital\": \"Moscow\",\n",
      "   \"currency\": \"RUB\"\n",
      "}\n"
     ]
    }
   ],
   "source": [
    "#Регулирование отступа\n",
    "data = {'name':'Russia','capital':'Moscow','currency':'RUB'}\n",
    "json_data = json.dumps(data,indent=3)\n",
    "\n",
    "print(json_data)\n",
    "# {\n",
    "#    \"name\": \"Russia\",\n",
    "#    \"capital\": \"Moscow\",\n",
    "#    \"currency\": \"RUB\"\n",
    "# }"
   ]
  },
  {
   "cell_type": "code",
   "execution_count": 5,
   "metadata": {},
   "outputs": [
    {
     "name": "stdout",
     "output_type": "stream",
     "text": [
      "{\"capital\": \"Moscow\", \"currency\": \"RUB\", \"name\": \"Russia\"}\n"
     ]
    }
   ],
   "source": [
    "#Сортировка ключей\n",
    "data = {'name':'Russia','capital':'Moscow','currency':'RUB'}\n",
    "json_data = json.dumps(data,sort_keys=True)\n",
    "\n",
    "print(json_data) #{\"capital\": \"Moscow\", \"currency\": \"RUB\", \"name\": \"Russia\"}"
   ]
  },
  {
   "cell_type": "code",
   "execution_count": 6,
   "metadata": {},
   "outputs": [
    {
     "name": "stdout",
     "output_type": "stream",
     "text": [
      "{\"name\"=\"Russia\";\"capital\"=\"Moscow\";\"currency\"=\"RUB\"}\n"
     ]
    }
   ],
   "source": [
    "#Меняем разделители между ключом значением и записями\n",
    "data = {'name':'Russia','capital':'Moscow','currency':'RUB'}\n",
    "json_data = json.dumps(data,separators=(';','='))\n",
    "\n",
    "print(json_data) #{\"name\"=\"Russia\";\"capital\"=\"Moscow\";\"currency\"=\"RUB\"}"
   ]
  },
  {
   "cell_type": "code",
   "execution_count": 7,
   "metadata": {},
   "outputs": [
    {
     "name": "stdout",
     "output_type": "stream",
     "text": [
      "{'name': 'Russia', 'phone_code': 7, 'capital': 'Moscow', 'cities': ['Abakan', 'Almetyevsk', 'Anadyr', 'Anapa', 'Arkhangelsk', 'Astrakhan'], 'currency': 'RUB'}\n"
     ]
    }
   ],
   "source": [
    "#Чтение JSON\n",
    "with open(r'data.json') as file:\n",
    "    data = json.load(file)\n",
    "    print(data) #{'name': 'Russia', 'phone_code': 7, 'capital': 'Moscow', 'cities': ['Abakan', 'Almetyevsk', 'Anadyr', 'Anapa', 'Arkhangelsk', 'Astrakhan'], 'currency': 'RUB'}"
   ]
  },
  {
   "cell_type": "code",
   "execution_count": 8,
   "metadata": {},
   "outputs": [
    {
     "name": "stdout",
     "output_type": "stream",
     "text": [
      "<class 'str'>\n",
      "<class 'int'>\n",
      "<class 'float'>\n",
      "<class 'list'>\n",
      "<class 'dict'>\n"
     ]
    }
   ],
   "source": [
    "#JSON автоматически определяет типизацию\n",
    "json_data = '''\n",
    "{\n",
    "   \"name\": \"Russia\",\n",
    "   \"phone_code\": 7,\n",
    "   \"latitude\": 60.0,\n",
    "   \"capital\": \"Moscow\",\n",
    "   \"timezones\": [\"Anadyr\", \"Barnaul\", \"Moscow\", \"Kirov\"],\n",
    "   \"translations\": {\n",
    "      \"nl\": \"Rusland\",\n",
    "      \"hr\": \"Rusija\",\n",
    "      \"de\": \"Russland\",\n",
    "      \"es\": \"Rusia\",\n",
    "      \"fr\": \"Russie\",\n",
    "      \"it\": \"Russia\"\n",
    "   }\n",
    "}'''\n",
    "\n",
    "data = json.loads(json_data)\n",
    "\n",
    "print(type(data['name']))           #<class 'str'>\n",
    "print(type(data['phone_code']))     #<class 'int'>\n",
    "print(type(data['latitude']))       #<class 'float'>\n",
    "print(type(data['timezones']))      #<class 'list'>\n",
    "print(type(data['translations']))   #<class 'dict'>"
   ]
  },
  {
   "cell_type": "code",
   "execution_count": null,
   "metadata": {},
   "outputs": [],
   "source": [
    "#Таблица конвертации данных из Python В JSON\n",
    "# Python\t    JSON\n",
    "# dict\t        object\n",
    "# list, tuple\tarray\n",
    "# str\t        string\n",
    "# int, float\tnumber\n",
    "# True\t        true\n",
    "# False\t        false\n",
    "# None\t        null"
   ]
  },
  {
   "cell_type": "code",
   "execution_count": null,
   "metadata": {},
   "outputs": [],
   "source": [
    "#Таблица конвертации данных из JSON в Python\n",
    "# JSON\t        Python\n",
    "# object\t    dict\n",
    "# array\t        list\n",
    "# string\t    str\n",
    "# number (int)\tint\n",
    "# number (real)\tfloat\n",
    "# true\t        True\n",
    "# false\t        False\n",
    "# null\t        None"
   ]
  },
  {
   "cell_type": "code",
   "execution_count": 12,
   "metadata": {},
   "outputs": [
    {
     "name": "stdout",
     "output_type": "stream",
     "text": [
      "{\"1\": \"Timur\", \"false\": \"Arthur\", \"null\": \"Ruslan\"}\n"
     ]
    }
   ],
   "source": [
    "#Если ключ - число, bool или None - переводится в строку\n",
    "data = {1: 'Timur', False: 'Arthur', None: 'Ruslan'}\n",
    "json_data = json.dumps(data)\n",
    "\n",
    "print(json_data) #{\"1\": \"Timur\", \"false\": \"Arthur\", \"null\": \"Ruslan\"}"
   ]
  }
 ],
 "metadata": {
  "kernelspec": {
   "display_name": "base",
   "language": "python",
   "name": "python3"
  },
  "language_info": {
   "codemirror_mode": {
    "name": "ipython",
    "version": 3
   },
   "file_extension": ".py",
   "mimetype": "text/x-python",
   "name": "python",
   "nbconvert_exporter": "python",
   "pygments_lexer": "ipython3",
   "version": "3.11.7"
  }
 },
 "nbformat": 4,
 "nbformat_minor": 2
}
