{
 "cells": [
  {
   "cell_type": "code",
   "execution_count": 1,
   "id": "9abdddf4",
   "metadata": {},
   "outputs": [],
   "source": [
    "import pickle"
   ]
  },
  {
   "cell_type": "code",
   "execution_count": null,
   "id": "551bd7eb",
   "metadata": {},
   "outputs": [],
   "source": [
    "#JSON -сериализация файла в строку\n",
    "#Pickle - сериализация в байты"
   ]
  },
  {
   "cell_type": "code",
   "execution_count": null,
   "id": "18477b43",
   "metadata": {},
   "outputs": [],
   "source": [
    "#Сохранение в pkl\n",
    "obj = {'Python': 1991, 'Java': 1995, 'C#': 2002}\n",
    "\n",
    "with open('file.plk','wb') as file:\n",
    "    pickle.dump(obj,file)"
   ]
  },
  {
   "cell_type": "code",
   "execution_count": null,
   "id": "969d2c17",
   "metadata": {},
   "outputs": [
    {
     "name": "stdout",
     "output_type": "stream",
     "text": [
      "{'Python': 1991, 'Java': 1995, 'C#': 2002}\n",
      "<class 'dict'>\n"
     ]
    }
   ],
   "source": [
    "#Загрузка из pkl\n",
    "with open('file.plk','rb') as file:\n",
    "    obj = pickle.load(file)\n",
    "    print(obj)       #{'Python': 1991, 'Java': 1995, 'C#': 2002}\n",
    "    print(type(obj)) #<class 'dict'>"
   ]
  },
  {
   "cell_type": "code",
   "execution_count": null,
   "id": "744f9553",
   "metadata": {},
   "outputs": [
    {
     "name": "stdout",
     "output_type": "stream",
     "text": [
      "b'\\x80\\x04\\x95#\\x00\\x00\\x00\\x00\\x00\\x00\\x00}\\x94(\\x8c\\x06Python\\x94M\\xc7\\x07\\x8c\\x04Java\\x94M\\xcb\\x07\\x8c\\x02C#\\x94M\\xd2\\x07u.'\n",
      "<class 'bytes'>\n"
     ]
    }
   ],
   "source": [
    "#Сериализация не в файл, а в объект\n",
    "import pickle\n",
    "\n",
    "obj = {'Python': 1991, 'Java': 1995, 'C#': 2002}\n",
    "binary_obj = pickle.dumps(obj)\n",
    "\n",
    "print(binary_obj)       #b'\\x80\\x04\\x95#\\x00\\x00\\x00\\x00\\x00\\x00\\x00}\\x94(\\x8c\\x06Python\\x94M\\xc7\\x07\\x8c\\x04Java\\x94M\\xcb\\x07\\x8c\\x02C#\\x94M\\xd2\\x07u.'\n",
    "print(type(binary_obj)) #<class 'bytes'>"
   ]
  },
  {
   "cell_type": "code",
   "execution_count": null,
   "id": "8c896bbd",
   "metadata": {},
   "outputs": [
    {
     "name": "stdout",
     "output_type": "stream",
     "text": [
      "{'Python': 1991, 'Java': 1995, 'C#': 2002}\n"
     ]
    }
   ],
   "source": [
    "#Десериализация в объект\n",
    "\n",
    "obj = {'Python': 1991, 'Java': 1995, 'C#': 2002}\n",
    "binary_obj = pickle.dumps(obj)\n",
    "\n",
    "new_obj = pickle.loads(binary_obj)\n",
    "\n",
    "print(new_obj)   #{'Python': 1991, 'Java': 1995, 'C#': 2002}"
   ]
  }
 ],
 "metadata": {
  "kernelspec": {
   "display_name": "base",
   "language": "python",
   "name": "python3"
  },
  "language_info": {
   "codemirror_mode": {
    "name": "ipython",
    "version": 3
   },
   "file_extension": ".py",
   "mimetype": "text/x-python",
   "name": "python",
   "nbconvert_exporter": "python",
   "pygments_lexer": "ipython3",
   "version": "3.11.7"
  }
 },
 "nbformat": 4,
 "nbformat_minor": 5
}
