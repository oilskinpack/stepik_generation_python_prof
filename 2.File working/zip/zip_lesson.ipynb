{
 "cells": [
  {
   "cell_type": "markdown",
   "id": "8cd57270",
   "metadata": {},
   "source": [
    "Сжатие информации – это процесс преобразования информации, хранящейся в файле, при котором уменьшается избыточность в ее представлении и, соответственно, требуется меньший объем памяти для хранения.\n",
    "\n",
    "Сжатие информации в файлах производится за счет устранения избыточности различными способами, например, за счет упрощения кодов, исключения из них постоянных битов или представления повторяющихся символов или повторяющейся последовательности символов в виде коэффициента повторения и соответствующих символов.\n",
    "\n",
    "Архивация файлов — упаковка нескольких файлов в один файл или поток — архив. Не следует путать архивацию со сжатием, которое далеко не всегда применяется при создании архива.\n",
    "\n",
    "Архивный файл – это специальным образом организованный файл, содержащий в себе один или несколько файлов в сжатом или несжатом виде и служебную информацию об именах файлов, дате и времени их создания или модификации, размерах и т.д."
   ]
  },
  {
   "cell_type": "markdown",
   "id": "35899fff",
   "metadata": {},
   "source": [
    "Наиболее хорошо сжимаются файлы графических образов, текстовые файлы и файлы данных, для которых степень сжатия может достигать 5−40\n",
    "%5−40%, меньше сжимаются файлы исполняемых программ и загрузочных модулей – 60−90% 60−90%. Почти не сжимаются архивные файлы."
   ]
  },
  {
   "cell_type": "code",
   "execution_count": 1,
   "id": "b8680620",
   "metadata": {},
   "outputs": [
    {
     "name": "stdout",
     "output_type": "stream",
     "text": [
      "File Name                                             Modified             Size\n",
      "test/                                          2021-11-27 12:47:10            0\n",
      "test/Картинки/                                 2021-11-27 12:49:02            0\n",
      "test/Картинки/1.jpg                            2021-09-02 12:30:20        90156\n",
      "test/Картинки/avatar.png                       2021-08-20 09:38:44        19053\n",
      "test/Картинки/certificate.png                  2021-10-23 09:46:36        43699\n",
      "test/Картинки/py.png                           2021-07-28 17:55:56        33522\n",
      "test/Картинки/World_Time_Zones_Map.png         2021-11-08 07:30:06      2324421\n",
      "test/Картинки/Снимок экрана.png                2021-10-01 20:47:02        10878\n",
      "test/Неравенства.djvu                          2021-08-19 08:39:06      5283010\n",
      "test/Программы/                                2021-11-27 12:48:20            0\n",
      "test/Программы/image_util.py                   2021-11-18 12:42:22         4955\n",
      "test/Программы/sort.py                         2021-11-14 19:31:02           61\n",
      "test/Разные файлы/                             2021-11-27 12:48:10            0\n",
      "test/Разные файлы/astros.json                  2021-11-08 09:29:58          505\n"
     ]
    }
   ],
   "source": [
    "from zipfile import ZipFile\n",
    "\n",
    "#Вывод структуры внутри zip\n",
    "with ZipFile('test.zip') as zip_file:\n",
    "    zip_file.printdir()"
   ]
  },
  {
   "cell_type": "code",
   "execution_count": 2,
   "id": "ab89fb90",
   "metadata": {},
   "outputs": [
    {
     "name": "stdout",
     "output_type": "stream",
     "text": [
      "2324421\n",
      "2322032\n",
      "test/Картинки/World_Time_Zones_Map.png\n",
      "(2021, 11, 8, 7, 30, 6)\n"
     ]
    }
   ],
   "source": [
    "#Подробная информация о файлах из архива\n",
    "with ZipFile('test.zip') as zip_file:\n",
    "    info = zip_file.infolist()\n",
    "    print(info[6].file_size)                # размер начального файла в байтах\n",
    "    print(info[6].compress_size)            # размер сжатого файла в байтах\n",
    "    print(info[6].filename)                 # имя файла\n",
    "    print(info[6].date_time)                # дата изменения файла"
   ]
  },
  {
   "cell_type": "code",
   "execution_count": null,
   "id": "94c6efc0",
   "metadata": {},
   "outputs": [
    {
     "name": "stdout",
     "output_type": "stream",
     "text": [
      "10\n"
     ]
    }
   ],
   "source": [
    "#Проверка является ли объект папкой или файлов\n",
    "with ZipFile('test.zip') as zip_file:\n",
    "    info = zip_file.infolist()\n",
    "    print(info[0].is_dir()) #True\n",
    "    print(info[6].is_dir()) #False"
   ]
  },
  {
   "cell_type": "code",
   "execution_count": 4,
   "id": "12e037f3",
   "metadata": {},
   "outputs": [
    {
     "name": "stdout",
     "output_type": "stream",
     "text": [
      "test/\n",
      "test/Картинки/\n",
      "test/Картинки/1.jpg\n",
      "test/Картинки/avatar.png\n",
      "test/Картинки/certificate.png\n",
      "test/Картинки/py.png\n",
      "test/Картинки/World_Time_Zones_Map.png\n",
      "test/Картинки/Снимок экрана.png\n",
      "test/Неравенства.djvu\n",
      "test/Программы/\n",
      "test/Программы/image_util.py\n",
      "test/Программы/sort.py\n",
      "test/Разные файлы/\n",
      "test/Разные файлы/astros.json\n"
     ]
    }
   ],
   "source": [
    "#Вывод только имен файлов\n",
    "from zipfile import ZipFile\n",
    "\n",
    "with ZipFile('test.zip') as zip_file:\n",
    "    info = zip_file.namelist()\n",
    "    print(*info, sep='\\n')"
   ]
  },
  {
   "cell_type": "code",
   "execution_count": null,
   "id": "aeeb32aa",
   "metadata": {},
   "outputs": [
    {
     "name": "stdout",
     "output_type": "stream",
     "text": [
      "90156\n",
      "84676\n",
      "test/Картинки/1.jpg\n",
      "(2021, 9, 2, 12, 30, 20)\n"
     ]
    }
   ],
   "source": [
    "#Получение информации о файле по имени\n",
    "with ZipFile('test.zip') as zip_file:\n",
    "    info = zip_file.namelist()\n",
    "    last_file = zip_file.getinfo(info[2])\n",
    "    print(last_file.file_size)     #90156\n",
    "    print(last_file.compress_size) #84676\n",
    "    print(last_file.filename)      #test/Картинки/1.jpg\n",
    "    print(last_file.date_time)     #(2021, 9, 2, 12, 30, 20)"
   ]
  },
  {
   "cell_type": "code",
   "execution_count": null,
   "id": "c32aca65",
   "metadata": {},
   "outputs": [
    {
     "name": "stdout",
     "output_type": "stream",
     "text": [
      "b'{\"number\": 10, \"people\": [{\"craft\": \"ISS\", \"name\": \"Mark Vande Hei\"}, {\"craft\": \"ISS\", \"name\": \"Pyotr Dubrov\"}, {\"craft\": \"ISS\", \"name\": \"Thomas Pesquet\"}, {\"craft\": \"ISS\", \"name\": \"Megan McArthur\"}, {\"craft\": \"ISS\", \"name\": \"Shane Kimbrough\"}, {\"craft\": \"ISS\", \"name\": \"Akihiko Hoshide\"}, {\"craft\": \"ISS\", \"name\": \"Anton Shkaplerov\"}, {\"craft\": \"Shenzhou 13\", \"name\": \"Zhai Zhigang\"}, {\"craft\": \"Shenzhou 13\", \"name\": \"Wang Yaping\"}, {\"craft\": \"Shenzhou 13\", \"name\": \"Ye Guangfu\"}], \"message\": \"success\"}'\n"
     ]
    }
   ],
   "source": [
    "#Чтение содержимого из файла (Бинарный вид)\n",
    "with ZipFile('test.zip') as zip_file:\n",
    "    with zip_file.open('test/Разные файлы/astros.json') as file:\n",
    "        print(file.read())\n",
    "#b'{\"number\": 10, \"people\": [{\"craft\": \"ISS\", \"name\": \"Mark Vande Hei\"},\n",
    "#  {\"craft\": \"ISS\", \"name\": \"Pyotr Dubrov\"}, {\"craft\": \"ISS\", \"name\": \"Thomas Pesquet\"},\n",
    "#  {\"craft\": \"ISS\", \"name\": \"Megan McArthur\"}, {\"craft\": \"ISS\", \"name\": \"Shane Kimbrough\"},\n",
    "#  {\"craft\": \"ISS\", \"name\": \"Akihiko Hoshide\"}, {\"craft\": \"ISS\", \"name\": \"Anton Shkaplerov\"}, \n",
    "# {\"craft\": \"Shenzhou 13\", \"name\": \"Zhai Zhigang\"}, {\"craft\": \"Shenzhou 13\", \"name\": \"Wang Yaping\"},\n",
    "#  {\"craft\": \"Shenzhou 13\", \"name\": \"Ye Guangfu\"}], \"message\": \"success\"}'"
   ]
  },
  {
   "cell_type": "markdown",
   "id": "c2401efb",
   "metadata": {},
   "source": [
    "Обратите внимание на символ b перед выводом. Это бинарная строка. Метод file.read() возвращает сырые байты (тип bytes). \n",
    "Для того чтобы преобразовать их в строку (тип str), нужно использовать метод decode(), указав нужную кодировку (файл astros.json имеет кодировку UTF-8)."
   ]
  },
  {
   "cell_type": "code",
   "execution_count": null,
   "id": "803abcd4",
   "metadata": {},
   "outputs": [],
   "source": [
    "#Чтение содержимого из файла (Классический вид)\n",
    "with ZipFile('test.zip') as zip_file:\n",
    "    with zip_file.open('test/Разные файлы/astros.json') as file:\n",
    "        print(file.read().decode('utf-8'))"
   ]
  },
  {
   "cell_type": "code",
   "execution_count": null,
   "id": "d34ccd0d",
   "metadata": {},
   "outputs": [
    {
     "name": "stdout",
     "output_type": "stream",
     "text": [
      "['Файл поместится в архив.txt']\n"
     ]
    }
   ],
   "source": [
    "#Создание архива и перенос в него файлов\n",
    "with ZipFile('archive.zip',mode='w') as zip_file:\n",
    "    zip_file.write('Файл поместится в архив.txt')\n",
    "    # zip_file.write('lse.jpeg')\n",
    "    print(zip_file.namelist())"
   ]
  },
  {
   "cell_type": "code",
   "execution_count": null,
   "id": "943a431f",
   "metadata": {},
   "outputs": [
    {
     "name": "stdout",
     "output_type": "stream",
     "text": [
      "['Файл в архиве.txt']\n"
     ]
    }
   ],
   "source": [
    "#Создание архива и перенос файлов с переименованием файлов\n",
    "#mode = 'a' - добавление в существующий архив\n",
    "with ZipFile('archive.zip',mode='w') as zip_file:\n",
    "    zip_file.write('Файл поместится в архив.txt','Файл в архиве.txt')\n",
    "    # zip_file.write('lse.jpeg')\n",
    "    print(zip_file.namelist())"
   ]
  },
  {
   "cell_type": "code",
   "execution_count": null,
   "id": "fde5e63c",
   "metadata": {},
   "outputs": [],
   "source": [
    "#Извлечение отдельного файла\n",
    "with ZipFile('test.zip') as zip_file:\n",
    "    zip_file.extract('test/Картинки/avatar.png')"
   ]
  },
  {
   "cell_type": "code",
   "execution_count": 26,
   "id": "8d8ee5a6",
   "metadata": {},
   "outputs": [],
   "source": [
    "#Извлечение всех файлов\n",
    "with ZipFile('test.zip') as zip_file:\n",
    "    zip_file.extractall()"
   ]
  }
 ],
 "metadata": {
  "kernelspec": {
   "display_name": "base",
   "language": "python",
   "name": "python3"
  },
  "language_info": {
   "codemirror_mode": {
    "name": "ipython",
    "version": 3
   },
   "file_extension": ".py",
   "mimetype": "text/x-python",
   "name": "python",
   "nbconvert_exporter": "python",
   "pygments_lexer": "ipython3",
   "version": "3.11.7"
  }
 },
 "nbformat": 4,
 "nbformat_minor": 5
}
