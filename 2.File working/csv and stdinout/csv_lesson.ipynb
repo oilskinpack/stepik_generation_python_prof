{
 "cells": [
  {
   "cell_type": "code",
   "execution_count": 1,
   "metadata": {},
   "outputs": [],
   "source": [
    "import csv"
   ]
  },
  {
   "cell_type": "code",
   "execution_count": null,
   "metadata": {},
   "outputs": [
    {
     "name": "stdout",
     "output_type": "stream",
     "text": [
      "['keywords', 'price', 'product_name']\n",
      "['Садовый стул', '1699', 'ВЭДДО']\n",
      "['Садовый стул', '2999', 'ЭПЛАРО']\n",
      "['Садовый табурет', '1699', 'ЭПЛАРО']\n",
      "['Садовый стол', '1999', 'ТЭРНО']\n",
      "['Складной стол', '7499', 'ЭПЛАРО']\n",
      "['Настил', '1299', 'РУННЕН']\n",
      "['Стеллаж', '1299', 'ХИЛЛИС']\n",
      "['Кружка', '39', 'СТЕЛЬНА']\n",
      "['Молочник', '299', 'ВАРДАГЕН']\n",
      "['Термос для еды', '699', 'ЭФТЕРФРОГАД']\n",
      "['Ситечко', '59', 'ИДЕАЛИСК']\n",
      "['Чайник заварочный', '499', 'РИКЛИГ']\n",
      "['Кофе-пресс', '699', 'УПХЕТТА']\n",
      "['Чашка с блюдцем', '249', 'ИКЕА']\n",
      "['Кружка', '249', 'ЭМНТ']\n",
      "['Ситечко', '199', 'САККУННИГ']\n",
      "['Кружка', '199', 'ФИНСТИЛТ']\n",
      "['Тарелка', '269', 'ЭВЕРЕНС']\n"
     ]
    }
   ],
   "source": [
    "#Создается конструкция для чтения содержимого файла\n",
    "with open('products.csv',encoding='utf-8') as file:\n",
    "    #Создается построчный итератор\n",
    "    rows = csv.reader(file)\n",
    "    for row in rows:\n",
    "        print(row)"
   ]
  },
  {
   "cell_type": "code",
   "execution_count": 3,
   "metadata": {},
   "outputs": [
    {
     "name": "stdout",
     "output_type": "stream",
     "text": [
      "Ключевые слова: keywords, цена: price, название: product_name\n",
      "Ключевые слова: Садовый стул, цена: 1699, название: ВЭДДО\n",
      "Ключевые слова: Садовый стул, цена: 2999, название: ЭПЛАРО\n",
      "Ключевые слова: Садовый табурет, цена: 1699, название: ЭПЛАРО\n",
      "Ключевые слова: Садовый стол, цена: 1999, название: ТЭРНО\n",
      "Ключевые слова: Складной стол, цена: 7499, название: ЭПЛАРО\n",
      "Ключевые слова: Настил, цена: 1299, название: РУННЕН\n",
      "Ключевые слова: Стеллаж, цена: 1299, название: ХИЛЛИС\n",
      "Ключевые слова: Кружка, цена: 39, название: СТЕЛЬНА\n",
      "Ключевые слова: Молочник, цена: 299, название: ВАРДАГЕН\n",
      "Ключевые слова: Термос для еды, цена: 699, название: ЭФТЕРФРОГАД\n",
      "Ключевые слова: Ситечко, цена: 59, название: ИДЕАЛИСК\n",
      "Ключевые слова: Чайник заварочный, цена: 499, название: РИКЛИГ\n",
      "Ключевые слова: Кофе-пресс, цена: 699, название: УПХЕТТА\n",
      "Ключевые слова: Чашка с блюдцем, цена: 249, название: ИКЕА\n",
      "Ключевые слова: Кружка, цена: 249, название: ЭМНТ\n",
      "Ключевые слова: Ситечко, цена: 199, название: САККУННИГ\n",
      "Ключевые слова: Кружка, цена: 199, название: ФИНСТИЛТ\n",
      "Ключевые слова: Тарелка, цена: 269, название: ЭВЕРЕНС\n"
     ]
    }
   ],
   "source": [
    "#Каждая строчка файла - список. Можем сделать распаковку\n",
    "with open('products.csv',encoding='utf-8') as file:\n",
    "    #Создается построчный итератор\n",
    "    rows = csv.reader(file)\n",
    "    for keyword,price,product_name in rows:\n",
    "        print(f'Ключевые слова: {keyword}, цена: {price}, название: {product_name}')"
   ]
  },
  {
   "cell_type": "code",
   "execution_count": 4,
   "metadata": {},
   "outputs": [
    {
     "name": "stdout",
     "output_type": "stream",
     "text": [
      "Ключевые слова: keywords, цена: price, название: product_name\n",
      "Ключевые слова: Садовый стул, цена: 1699, название: ВЭДДО\n",
      "Ключевые слова: Садовый стул, цена: 2999, название: ЭПЛАРО\n",
      "Ключевые слова: Садовый табурет, цена: 1699, название: ЭПЛАРО\n",
      "Ключевые слова: Садовый стол, цена: 1999, название: ТЭРНО\n",
      "Ключевые слова: Складной стол, цена: 7499, название: ЭПЛАРО\n",
      "Ключевые слова: Настил, цена: 1299, название: РУННЕН\n",
      "Ключевые слова: Стеллаж, цена: 1299, название: ХИЛЛИС\n",
      "Ключевые слова: Кружка, цена: 39, название: СТЕЛЬНА\n",
      "Ключевые слова: Молочник, цена: 299, название: ВАРДАГЕН\n",
      "Ключевые слова: Термос для еды, цена: 699, название: ЭФТЕРФРОГАД\n",
      "Ключевые слова: Ситечко, цена: 59, название: ИДЕАЛИСК\n",
      "Ключевые слова: Чайник заварочный, цена: 499, название: РИКЛИГ\n",
      "Ключевые слова: Кофе-пресс, цена: 699, название: УПХЕТТА\n",
      "Ключевые слова: Чашка с блюдцем, цена: 249, название: ИКЕА\n",
      "Ключевые слова: Кружка, цена: 249, название: ЭМНТ\n",
      "Ключевые слова: Ситечко, цена: 199, название: САККУННИГ\n",
      "Ключевые слова: Кружка, цена: 199, название: ФИНСТИЛТ\n",
      "Ключевые слова: Тарелка, цена: 269, название: ЭВЕРЕНС\n"
     ]
    }
   ],
   "source": [
    "#Указываем разделитель и ограничители явно\n",
    "with open('products.csv',encoding='utf-8') as file:\n",
    "    #Создается построчный итератор\n",
    "    rows = csv.reader(file,delimiter=',', quotechar='\"')\n",
    "    for keyword,price,product_name in rows:\n",
    "        print(f'Ключевые слова: {keyword}, цена: {price}, название: {product_name}')"
   ]
  },
  {
   "cell_type": "code",
   "execution_count": 5,
   "metadata": {},
   "outputs": [
    {
     "name": "stdout",
     "output_type": "stream",
     "text": [
      "{'keywords': 'Садовый стул', 'price': '1699', 'product_name': 'ВЭДДО'}\n",
      "{'keywords': 'Садовый стул', 'price': '2999', 'product_name': 'ЭПЛАРО'}\n",
      "{'keywords': 'Садовый табурет', 'price': '1699', 'product_name': 'ЭПЛАРО'}\n",
      "{'keywords': 'Садовый стол', 'price': '1999', 'product_name': 'ТЭРНО'}\n",
      "{'keywords': 'Складной стол', 'price': '7499', 'product_name': 'ЭПЛАРО'}\n",
      "{'keywords': 'Настил', 'price': '1299', 'product_name': 'РУННЕН'}\n",
      "{'keywords': 'Стеллаж', 'price': '1299', 'product_name': 'ХИЛЛИС'}\n",
      "{'keywords': 'Кружка', 'price': '39', 'product_name': 'СТЕЛЬНА'}\n",
      "{'keywords': 'Молочник', 'price': '299', 'product_name': 'ВАРДАГЕН'}\n",
      "{'keywords': 'Термос для еды', 'price': '699', 'product_name': 'ЭФТЕРФРОГАД'}\n",
      "{'keywords': 'Ситечко', 'price': '59', 'product_name': 'ИДЕАЛИСК'}\n",
      "{'keywords': 'Чайник заварочный', 'price': '499', 'product_name': 'РИКЛИГ'}\n",
      "{'keywords': 'Кофе-пресс', 'price': '699', 'product_name': 'УПХЕТТА'}\n",
      "{'keywords': 'Чашка с блюдцем', 'price': '249', 'product_name': 'ИКЕА'}\n",
      "{'keywords': 'Кружка', 'price': '249', 'product_name': 'ЭМНТ'}\n",
      "{'keywords': 'Ситечко', 'price': '199', 'product_name': 'САККУННИГ'}\n",
      "{'keywords': 'Кружка', 'price': '199', 'product_name': 'ФИНСТИЛТ'}\n",
      "{'keywords': 'Тарелка', 'price': '269', 'product_name': 'ЭВЕРЕНС'}\n"
     ]
    }
   ],
   "source": [
    "#Разворот данных через DictReader - словарь\n",
    "with open('products.csv', encoding='utf-8') as file:\n",
    "    rows = csv.DictReader(file, delimiter=',', quotechar='\"')\n",
    "    for row in rows:\n",
    "        print(row)"
   ]
  },
  {
   "cell_type": "code",
   "execution_count": 6,
   "metadata": {},
   "outputs": [
    {
     "name": "stdout",
     "output_type": "stream",
     "text": [
      "Успешно создан\n"
     ]
    }
   ],
   "source": [
    "#Запись данных\n",
    "columns = ['first_name', 'second_name', 'class_number', 'class_letter']\n",
    "data = [['Тимур', 'Гуев', 11, 'А'], ['Руслан', 'Чаниев', 9, 'Б'], ['Артур', 'Харисов', 10, 'В']]\n",
    "\n",
    "with open('studenst.csv','w',encoding='utf-8',newline='') as file:\n",
    "    writer = csv.writer(file)\n",
    "    writer.writerow(columns)\n",
    "    for row in data:\n",
    "        writer.writerow(row)\n",
    "print('Успешно создан')"
   ]
  },
  {
   "cell_type": "code",
   "execution_count": null,
   "metadata": {},
   "outputs": [],
   "source": [
    "#Запись через словарь\n",
    "data = [{'first_name': 'Тимур', 'second_name': 'Гуев', 'class_number': 11, 'class_letter': 'А'},\n",
    "        {'first_name': 'Руслан', 'second_name': 'Чаниев', 'class_number': 9, 'class_letter': 'Б'},\n",
    "        {'first_name': 'Роман', 'second_name': 'Белых', 'class_number': 10, 'class_letter': 'В'}]\n",
    "columns = ['first_name', 'second_name', 'class_number', 'class_letter']\n",
    "\n",
    "with open('studenst.csv','w',encoding='utf-8',newline='') as file:\n",
    "    writer = csv.DictWriter(file,fieldnames=columns, delimiter=',')\n",
    "    writer.writeheader()\n",
    "    for row in data:\n",
    "        writer.writerow(row)\n"
   ]
  },
  {
   "cell_type": "code",
   "execution_count": null,
   "metadata": {},
   "outputs": [],
   "source": []
  }
 ],
 "metadata": {
  "kernelspec": {
   "display_name": "base",
   "language": "python",
   "name": "python3"
  },
  "language_info": {
   "codemirror_mode": {
    "name": "ipython",
    "version": 3
   },
   "file_extension": ".py",
   "mimetype": "text/x-python",
   "name": "python",
   "nbconvert_exporter": "python",
   "pygments_lexer": "ipython3",
   "version": "3.11.7"
  }
 },
 "nbformat": 4,
 "nbformat_minor": 2
}
