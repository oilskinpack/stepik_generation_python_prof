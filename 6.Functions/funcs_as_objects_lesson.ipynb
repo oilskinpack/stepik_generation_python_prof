{
 "cells": [
  {
   "cell_type": "code",
   "execution_count": null,
   "id": "229b198a",
   "metadata": {},
   "outputs": [
    {
     "name": "stdout",
     "output_type": "stream",
     "text": [
      "5\n",
      "28\n",
      "2\n",
      "5.6\n"
     ]
    }
   ],
   "source": [
    "#Функция можно запихивать в списки и словари\n",
    "\n",
    "def avg(nums):\n",
    "    return sum(nums)/len(nums)\n",
    "\n",
    "funcs = [len, sum, min, avg]\n",
    "\n",
    "primes = [2, 3, 5, 7, 11]\n",
    "\n",
    "for func in funcs:\n",
    "    print(func(primes))\n",
    "\n",
    "# 5\n",
    "# 28\n",
    "# 2\n",
    "# 5.6"
   ]
  },
  {
   "cell_type": "code",
   "execution_count": null,
   "id": "ac63015c",
   "metadata": {},
   "outputs": [
    {
     "name": "stdout",
     "output_type": "stream",
     "text": [
      "THIS IS THE BEST COURSE TO STUDY IN THE WORLD!\n",
      "tHIS IS THE bEST COURSE to STUDY IN THE WORLD!\n"
     ]
    }
   ],
   "source": [
    "#Можем держать функции в словаре\n",
    "\n",
    "funcs = {'capitalize': str.capitalize, \n",
    "         'swapcase': str.swapcase, \n",
    "         'title': str.title, \n",
    "         'lower': str.lower, \n",
    "         'upper': str.upper}\n",
    "\n",
    "sentence = 'This is the Best course TO study in the world!'\n",
    "\n",
    "print(funcs['upper'](sentence))\n",
    "print(funcs['swapcase'](sentence))\n",
    "\n",
    "# THIS IS THE BEST COURSE TO STUDY IN THE WORLD!\n",
    "# tHIS IS THE bEST COURSE to STUDY IN THE WORLD!"
   ]
  },
  {
   "cell_type": "code",
   "execution_count": null,
   "id": "01fa97f0",
   "metadata": {},
   "outputs": [
    {
     "name": "stdout",
     "output_type": "stream",
     "text": [
      "HELLO\n",
      "[1, 2, 3, 4]\n"
     ]
    }
   ],
   "source": [
    "#Можно использовать функции не к экземпляру, а к типу, передавая экземпляр\n",
    "\n",
    "text = 'hello'\n",
    "numbers = [1, 2, 3]\n",
    "\n",
    "text_upper = str.upper(text)\n",
    "list.append(numbers, 4)\n",
    "\n",
    "print(text_upper) #HELLO\n",
    "print(numbers)    #[1, 2, 3, 4]"
   ]
  },
  {
   "cell_type": "code",
   "execution_count": null,
   "id": "c30af521",
   "metadata": {},
   "outputs": [
    {
     "name": "stdout",
     "output_type": "stream",
     "text": [
      "func\n",
      "None\n",
      "('Python', 1992)\n"
     ]
    }
   ],
   "source": [
    "#Обязательные атрибуты:\n",
    "\n",
    "def func(name, language='Python', year=1992):\n",
    "    pass\n",
    "\n",
    "print(func.__name__)          # имя функции\n",
    "print(func.__doc__)           # строка документации (описание функции) - docstring\n",
    "print(func.__defaults__)      # кортеж с аргументами по умолчанию"
   ]
  },
  {
   "cell_type": "code",
   "execution_count": null,
   "id": "38bb79a5",
   "metadata": {},
   "outputs": [
    {
     "name": "stdout",
     "output_type": "stream",
     "text": [
      "Принимает число и возвращает его квадрат.\n",
      "Принимает несколько чисел и возвращает их среднее арифметическое значение.\n"
     ]
    }
   ],
   "source": [
    "#Написание docstring\n",
    "\n",
    "def square(n):\n",
    "    '''Принимает число и возвращает его квадрат.'''\n",
    "    return n**2\n",
    "\n",
    "def average(*args):\n",
    "    '''Принимает несколько чисел и возвращает их среднее арифметическое значение.'''\n",
    "    return sum(args)/len(args)\n",
    "\n",
    "print(square.__doc__) #Принимает число и возвращает его квадрат.\n",
    "print(average.__doc__) #Принимает несколько чисел и возвращает их среднее арифметическое значение."
   ]
  },
  {
   "cell_type": "code",
   "execution_count": null,
   "id": "68b30f3d",
   "metadata": {},
   "outputs": [
    {
     "name": "stdout",
     "output_type": "stream",
     "text": [
      "Умножает два числа\n",
      "\n",
      "    Parameters\n",
      "    ----------\n",
      "    num1 : (int,float)\n",
      "        Первое число\n",
      "    num2 : (int,float)\n",
      "        Второе число\n",
      "\n",
      "    Returns : (float)\n",
      "    -------\n",
      "        Результат произведение\n",
      "    \n"
     ]
    }
   ],
   "source": [
    "#Пишем docstring\n",
    "\n",
    "def my_func(num1,num2):\n",
    "    \"\"\"Умножает два числа\n",
    "\n",
    "    Parameters\n",
    "    ----------\n",
    "    num1 : (int,float)\n",
    "        Первое число\n",
    "    num2 : (int,float)\n",
    "        Второе число\n",
    "\n",
    "    Returns : (float)\n",
    "    -------\n",
    "        Результат произведение\n",
    "    \"\"\"\n",
    "    return num1 * num2\n",
    "\n",
    "print(my_func.__doc__)"
   ]
  }
 ],
 "metadata": {
  "kernelspec": {
   "display_name": "base",
   "language": "python",
   "name": "python3"
  },
  "language_info": {
   "codemirror_mode": {
    "name": "ipython",
    "version": 3
   },
   "file_extension": ".py",
   "mimetype": "text/x-python",
   "name": "python",
   "nbconvert_exporter": "python",
   "pygments_lexer": "ipython3",
   "version": "3.11.7"
  }
 },
 "nbformat": 4,
 "nbformat_minor": 5
}
