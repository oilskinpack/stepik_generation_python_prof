{
 "cells": [
  {
   "cell_type": "code",
   "execution_count": null,
   "id": "c9a25735",
   "metadata": {},
   "outputs": [],
   "source": [
    "def greet(name: str) -> str:\n",
    "    return f'Hello {name}!'\n",
    "\n",
    "#Для удобства отладки и читаемости можно указать:\n",
    "#       - какой тип данных ожидает функция\n",
    "#       - какой тип данных вернет функция\n",
    "\n",
    "#Это фича, а не обязательство"
   ]
  },
  {
   "cell_type": "code",
   "execution_count": null,
   "id": "f7cd875d",
   "metadata": {},
   "outputs": [],
   "source": [
    "def greet(name: str = 'world') -> str:\n",
    "    return f'Hello, {name}!'\n",
    "\n",
    "#Так делаем, если у параметра есть дефолтное значение"
   ]
  },
  {
   "cell_type": "code",
   "execution_count": 3,
   "id": "a9d33b5b",
   "metadata": {},
   "outputs": [],
   "source": [
    "name: str = 'Timur'\n",
    "age: int = 29\n",
    "height: float = 171.5\n",
    "is_married: bool = False\n",
    "\n",
    "#Можем добавлять аннотации сразу переменным"
   ]
  },
  {
   "cell_type": "code",
   "execution_count": null,
   "id": "d37589db",
   "metadata": {},
   "outputs": [],
   "source": [
    "numbers: list[int]                                # тип всех элементов списка\n",
    "person: tuple[str, int, bool]                     # тип каждого элемента кортежа\n",
    "prices: dict[str, int]                            # тип ключей, тип значений\n",
    "answers: set[float]                               # тип всех элементов множества\n",
    "\n",
    "#Так указываем если в коллекции хотим подчеркнуть что лежит внутри"
   ]
  },
  {
   "cell_type": "code",
   "execution_count": null,
   "id": "11b0ee3e",
   "metadata": {},
   "outputs": [
    {
     "name": "stdout",
     "output_type": "stream",
     "text": [
      "{'num1': <class 'int'>, 'num2': <class 'int'>, 'num3': <class 'int'>, 'return': <class 'float'>}\n"
     ]
    }
   ],
   "source": [
    "def avg(num1: int, num2: int, num3: int) -> float:\n",
    "    return (num1 + num2 + num3) / 3\n",
    "\n",
    "print(avg.__annotations__) #{'num1': <class 'int'>, 'num2': <class 'int'>, 'num3': <class 'int'>, 'return': <class 'float'>}\n",
    "\n",
    "#Смотрим аннотации типов у функции"
   ]
  },
  {
   "cell_type": "code",
   "execution_count": null,
   "id": "4cb447b6",
   "metadata": {},
   "outputs": [],
   "source": [
    "from typing import Union\n",
    "\n",
    "def add_or_concatenate(a: Union[int, float, str], b: Union[int, float, str]) -> Union[int, float, str]:\n",
    "    return a + b\n",
    "\n",
    "#Здесь каждый из параметром, а также возврат может быть:\n",
    "#       - int\n",
    "#       - float\n",
    "#       - str\n",
    "# Поэтому можно пользоваться типом Union, который объединяет 3 типа в лист"
   ]
  },
  {
   "cell_type": "code",
   "execution_count": null,
   "id": "b151c012",
   "metadata": {},
   "outputs": [],
   "source": [
    "from typing import Union\n",
    "\n",
    "NumberOrStr = Union[int, float, str]\n",
    "\n",
    "def add_or_concatenate(a: NumberOrStr, b: NumberOrStr) -> NumberOrStr:\n",
    "    return a + b\n",
    "\n",
    "#Можно использовать вот такой синтаксис"
   ]
  },
  {
   "cell_type": "code",
   "execution_count": 6,
   "id": "2d18b1ff",
   "metadata": {},
   "outputs": [],
   "source": [
    "from typing import Optional\n",
    "\n",
    "name: Optional[str]\n",
    "\n",
    "#Когда нужно значение str или None"
   ]
  },
  {
   "cell_type": "code",
   "execution_count": null,
   "id": "11f0c2fc",
   "metadata": {},
   "outputs": [],
   "source": []
  }
 ],
 "metadata": {
  "kernelspec": {
   "display_name": "base",
   "language": "python",
   "name": "python3"
  },
  "language_info": {
   "codemirror_mode": {
    "name": "ipython",
    "version": 3
   },
   "file_extension": ".py",
   "mimetype": "text/x-python",
   "name": "python",
   "nbconvert_exporter": "python",
   "pygments_lexer": "ipython3",
   "version": "3.11.7"
  }
 },
 "nbformat": 4,
 "nbformat_minor": 5
}
