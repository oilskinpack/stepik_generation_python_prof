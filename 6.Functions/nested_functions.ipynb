{
 "cells": [
  {
   "cell_type": "code",
   "execution_count": null,
   "id": "5045d450",
   "metadata": {},
   "outputs": [],
   "source": [
    "def speak(text):\n",
    "    def whisper(t):                      # объявляем вложенную функцию\n",
    "        return t.lower() + '...'\n",
    "    return whisper(text)                 # вызываем вложенную функцию и возвращаем ее результат\n",
    "\n",
    "print(speak('Hello, World'))  \n",
    "\n",
    "#Вложенные функции - функции, которые объявляются внутри других функций"
   ]
  },
  {
   "cell_type": "code",
   "execution_count": 1,
   "id": "1f4c70cc",
   "metadata": {},
   "outputs": [
    {
     "name": "stdout",
     "output_type": "stream",
     "text": [
      "hello...\n",
      "HELLO!\n"
     ]
    }
   ],
   "source": [
    "def get_speak_func(volume):\n",
    "    def whisper(text):\n",
    "        return text.lower() + '...'\n",
    "    def yell(text):\n",
    "        return text.upper() + '!'\n",
    "\n",
    "    if volume > 0.5:\n",
    "        return yell\n",
    "    else:\n",
    "        return whisper\n",
    "    \n",
    "\n",
    "whisper = get_speak_func(0.3)     # функция whisper()\n",
    "yell = get_speak_func(0.7)        # функция yell()\n",
    "\n",
    "print(whisper('Hello'))           # говорим шепотом\n",
    "print(yell('Hello'))              # кричим\n",
    "#Функции высшего порядка - функции, которые принимают или возвращают другие функции"
   ]
  },
  {
   "cell_type": "code",
   "execution_count": null,
   "id": "e6754027",
   "metadata": {},
   "outputs": [
    {
     "data": {
      "text/plain": [
       "'ААА!'"
      ]
     },
     "execution_count": 4,
     "metadata": {},
     "output_type": "execute_result"
    }
   ],
   "source": [
    "def get_speak_func(text, volume):\n",
    "    def whisper():\n",
    "        return text.lower() + '...'\n",
    "    def yell():\n",
    "        return text.upper() + '!'\n",
    "    \n",
    "    if volume > 0.5:\n",
    "        return yell\n",
    "    else:\n",
    "        return whisper\n",
    "    \n",
    "yell = get_speak_func('ааа',0.7)\n",
    "yell()                              #'ААА!'\n",
    "\n",
    "#Замыкания - когда вложенные фунцкии получают параметры через родительскую функцию\n",
    "#Здесь мы вызываем родительскую функцию, она возвращает вложенную функцию уже с нужными параметрами (текстом)\n",
    "\n",
    "#Родительская функция возвращает вложенную и мы можем сразу вызывать её"
   ]
  },
  {
   "cell_type": "code",
   "execution_count": null,
   "id": "881290c4",
   "metadata": {},
   "outputs": [
    {
     "name": "stdout",
     "output_type": "stream",
     "text": [
      "Hi, Timur\n",
      "Hello, Soslan\n"
     ]
    }
   ],
   "source": [
    "def greeting_creator(greeting_word):\n",
    "    def greet(name):\n",
    "        return f'{greeting_word}, {name}'\n",
    "\n",
    "    return greet\n",
    "\n",
    "say_hi = greeting_creator('Hi')\n",
    "say_hello = greeting_creator('Hello')\n",
    "\n",
    "print(say_hi('Timur'))          #Hi, Timur\n",
    "print(say_hello('Soslan'))      #Hello, Soslan      \n",
    "\n",
    "#Пример использования 1 - родительская функция как фабрика создания и настройки вложенной функции"
   ]
  },
  {
   "cell_type": "code",
   "execution_count": null,
   "id": "9de8a1b8",
   "metadata": {},
   "outputs": [
    {
     "name": "stdout",
     "output_type": "stream",
     "text": [
      "<function make_adder.<locals>.add at 0x00000282BA837B00>\n",
      "<function make_adder.<locals>.add at 0x00000282BA837B00>\n",
      "<function multiplier_of.<locals>.mult at 0x00000282BA837C40>\n",
      "<function multiplier_of.<locals>.mult at 0x00000282BA837B00>\n"
     ]
    }
   ],
   "source": [
    "def make_adder(n):\n",
    "    def add(x):\n",
    "        return x + n\n",
    "    return add\n",
    "\n",
    "def multiplier_of(n):\n",
    "    def mult(x):\n",
    "        return x * n\n",
    "    return mult\n",
    "\n",
    "plus_3 = make_adder(3)\n",
    "plus_5 = make_adder(5)\n",
    "multiply_3 = multiplier_of(3)\n",
    "multiply_5 = multiplier_of(5)\n",
    "\n",
    "\n",
    "#Так же родительская функция как фабрика создания и настройки вложенной функции"
   ]
  },
  {
   "cell_type": "code",
   "execution_count": null,
   "id": "8a620e1f",
   "metadata": {},
   "outputs": [],
   "source": [
    "# При поиске переменной с указанным именем приоритет (правило разрешения имен) следующий:\n",
    "\n",
    "# сначала ищем локальную переменную\n",
    "# если не нашли локальную, ищем нелокальную\n",
    "# если не нашли нелокальную, ищем глобальную\n",
    "# и в самом конце — встроенную в язык"
   ]
  },
  {
   "cell_type": "code",
   "execution_count": null,
   "id": "291dbe19",
   "metadata": {},
   "outputs": [],
   "source": [
    "def outer_function():\n",
    "    num = 5\n",
    "    def inner_function():      # определяем вложенную функцию\n",
    "        num += 10\n",
    "        print(num)\n",
    "    inner_function()           # вызываем вложенную функцию\n",
    "        \n",
    "outer_function()        #Код вызовет ошибку, так как вложенная функция пытается изменить локальную функцию родительской функции"
   ]
  },
  {
   "cell_type": "code",
   "execution_count": 8,
   "id": "e944cd2d",
   "metadata": {},
   "outputs": [
    {
     "name": "stdout",
     "output_type": "stream",
     "text": [
      "15\n"
     ]
    }
   ],
   "source": [
    "def outer_function():\n",
    "    num = 5\n",
    "    def inner_function():      # определяем вложенную функцию\n",
    "        nonlocal num\n",
    "        num += 10\n",
    "        print(num)\n",
    "    inner_function()           # вызываем вложенную функцию\n",
    "        \n",
    "outer_function()        #Решение - добавляем nonlocal"
   ]
  },
  {
   "cell_type": "code",
   "execution_count": null,
   "id": "18f0b303",
   "metadata": {},
   "outputs": [],
   "source": [
    "# воздержания от жестко закодированных констант\n",
    "# воздержания от использования глобальных переменных\n",
    "# воздержания от создания ненужных типов данных (классов)\n",
    "# замыкания нужны для реализации декораторов, о которых мы поговорим чуть позже\n",
    "\n",
    "#Когда используем"
   ]
  }
 ],
 "metadata": {
  "kernelspec": {
   "display_name": "base",
   "language": "python",
   "name": "python3"
  },
  "language_info": {
   "codemirror_mode": {
    "name": "ipython",
    "version": 3
   },
   "file_extension": ".py",
   "mimetype": "text/x-python",
   "name": "python",
   "nbconvert_exporter": "python",
   "pygments_lexer": "ipython3",
   "version": "3.11.7"
  }
 },
 "nbformat": 4,
 "nbformat_minor": 5
}
