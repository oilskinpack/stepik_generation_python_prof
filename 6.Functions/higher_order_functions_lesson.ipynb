{
 "cells": [
  {
   "cell_type": "code",
   "execution_count": null,
   "id": "1992cacc",
   "metadata": {},
   "outputs": [
    {
     "name": "stdout",
     "output_type": "stream",
     "text": [
      "17\n",
      "100\n",
      "1500\n"
     ]
    }
   ],
   "source": [
    "f1 = lambda: 17                          # функция без параметров\n",
    "f2 = lambda х, у: х**2 + у**2            # функция с двумя параметрами\n",
    "f3 = lambda х, у, z: х * у * z           # функция с тремя параметрами\n",
    "\n",
    "print(f1())\n",
    "print(f2(6, 8))\n",
    "print(f3(5, 10, 30))\n",
    "\n",
    "# 17\n",
    "# 100\n",
    "# 1500"
   ]
  },
  {
   "cell_type": "code",
   "execution_count": null,
   "id": "c59be07b",
   "metadata": {},
   "outputs": [
    {
     "name": "stdout",
     "output_type": "stream",
     "text": [
      "-210\n",
      "-7\n",
      "[117, 87, 32, 10, 8, -7, -50, -100, -210]\n"
     ]
    }
   ],
   "source": [
    "#Функции высшего порядка - функции которые принимают другие функции\n",
    "numbers = [10, -7, 8, -100, -50, 32, 87, 117, -210]\n",
    "\n",
    "print(max(numbers, key=abs))                   #  указываем функцию abs в качестве компаратора\n",
    "print(min(numbers, key=lambda x: x**2))        #  указываем анонимную функцию в качестве компаратора\n",
    "print(sorted(numbers, key=lambda x: -x))        #  указываем анонимную функцию в качестве компаратора\n",
    "\n",
    "# -210\n",
    "# -7\n",
    "# [117, 87, 32, 10, 8, -7, -50, -100, -210]"
   ]
  },
  {
   "cell_type": "code",
   "execution_count": null,
   "id": "4b4fc550",
   "metadata": {},
   "outputs": [
    {
     "name": "stdout",
     "output_type": "stream",
     "text": [
      "1 4 9 16 25 36 49 64 81\n",
      "5 6 7 90 34 54 21\n",
      "123 -453 34 3490\n",
      "Timur Artur Ruslan\n"
     ]
    }
   ],
   "source": [
    "#Функция map() - преобразует элементы, возвращает итератор\n",
    "\n",
    "squares = map(lambda x: x ** 2, range(1, 10))\n",
    "absolute = map(abs, [-5, 6, 7, -90, 34, 54, -21])\n",
    "numbers = map(lambda s: s.replace('.', ''), ['12.3', '-45.3', '34', '34...90'])\n",
    "capitals = map(lambda s: s.capitalize(), ['timur', 'artur', 'ruslan'])\n",
    "\n",
    "print(*squares)\n",
    "print(*absolute)\n",
    "print(*numbers)\n",
    "print(*capitals)\n",
    "\n",
    "# 1 4 9 16 25 36 49 64 81\n",
    "# 5 6 7 90 34 54 21\n",
    "# 123 -453 34 3490\n",
    "# Timur Artur Ruslan"
   ]
  },
  {
   "cell_type": "code",
   "execution_count": null,
   "id": "242bbb14",
   "metadata": {},
   "outputs": [
    {
     "name": "stdout",
     "output_type": "stream",
     "text": [
      "9 12\n",
      "16 9 64\n"
     ]
    }
   ],
   "source": [
    "#Если передается несколько элементов, то элементы итерируются по очереди сразу в каждом списке\n",
    "summa = map(lambda x, y, z: x + y + z, [1, 2], [3, 4], [5, 6])\n",
    "powers = map(pow, [2, 3, 4], [4, 2, 3])\n",
    "\n",
    "print(*summa)\n",
    "print(*powers)\n"
   ]
  },
  {
   "attachments": {
    "image.png": {
     "image/png": "[encoded data removed]"
    }
   },
   "cell_type": "markdown",
   "id": "93a29f3f",
   "metadata": {},
   "source": [
    "![image.png](attachment:image.png)"
   ]
  },
  {
   "cell_type": "code",
   "execution_count": null,
   "id": "184b2370",
   "metadata": {},
   "outputs": [
    {
     "name": "stdout",
     "output_type": "stream",
     "text": [
      "12 90 12\n",
      "45 67 87 45 67\n",
      "anton Alana Alika\n"
     ]
    }
   ],
   "source": [
    "#Функция filter - отфильтровывает элементы, которые не прошли проверку\n",
    "nums = [9, 3, 45, 67, 12, 90, 87, 12, 45, 67]\n",
    "names = ['timur', 'anton', 'Alana', 'ruslan', '', 'Gvido', 'Alika']\n",
    "\n",
    "filter1 = filter(lambda x: x % 2 == 0, nums)\n",
    "filter2 = filter(lambda x: x % 2 == 1 and x > 10, nums)\n",
    "filter3 = filter(lambda x: len(x) > 0 and x[0].lower() == 'a', names)\n",
    "\n",
    "print(*filter1)\n",
    "print(*filter2)\n",
    "print(*filter3)\n",
    "\n",
    "# 12 90 12\n",
    "# 45 67 87 45 67\n",
    "# anton Alana Alika"
   ]
  },
  {
   "cell_type": "code",
   "execution_count": 16,
   "id": "ed5381eb",
   "metadata": {},
   "outputs": [
    {
     "name": "stdout",
     "output_type": "stream",
     "text": [
      "False\n"
     ]
    }
   ],
   "source": [
    "x = set()\n",
    "if(x):\n",
    "    print(True)\n",
    "else:\n",
    "    print(False)"
   ]
  },
  {
   "cell_type": "code",
   "execution_count": 17,
   "id": "c7f61fd1",
   "metadata": {},
   "outputs": [
    {
     "name": "stdout",
     "output_type": "stream",
     "text": [
      "False\n"
     ]
    }
   ],
   "source": [
    "result = (lambda x: x > 5)(3)\n",
    "\n",
    "print(result)"
   ]
  }
 ],
 "metadata": {
  "kernelspec": {
   "display_name": "base",
   "language": "python",
   "name": "python3"
  },
  "language_info": {
   "codemirror_mode": {
    "name": "ipython",
    "version": 3
   },
   "file_extension": ".py",
   "mimetype": "text/x-python",
   "name": "python",
   "nbconvert_exporter": "python",
   "pygments_lexer": "ipython3",
   "version": "3.11.7"
  }
 },
 "nbformat": 4,
 "nbformat_minor": 5
}
