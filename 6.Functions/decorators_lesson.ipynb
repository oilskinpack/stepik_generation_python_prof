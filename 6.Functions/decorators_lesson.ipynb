{
 "cells": [
  {
   "cell_type": "code",
   "execution_count": null,
   "id": "c36de9be",
   "metadata": {},
   "outputs": [
    {
     "name": "stdout",
     "output_type": "stream",
     "text": [
      "Начало функции\n",
      "Привет Мир!\n",
      "Конец функции\n"
     ]
    }
   ],
   "source": [
    "def sample_decorator(func):          # определяем декоратор\n",
    "    def wrapper():\n",
    "        print('Начало функции')\n",
    "        func()\n",
    "        print('Конец функции')\n",
    "    return wrapper\n",
    "\n",
    "def say():\n",
    "    print('Привет Мир!')\n",
    "\n",
    "say = sample_decorator(say)          # декорируем функцию\n",
    "\n",
    "say()                                # вызываем декорированную функцию\n",
    "\n",
    "#Декоратор - функция, которая принимает другую функцию и расширяет её поведения. Это как бы обертка над функцией"
   ]
  },
  {
   "cell_type": "code",
   "execution_count": null,
   "id": "159fea6a",
   "metadata": {},
   "outputs": [
    {
     "name": "stdout",
     "output_type": "stream",
     "text": [
      "Начало функции\n",
      "Привет Мир!\n",
      "Конец функции\n"
     ]
    }
   ],
   "source": [
    "def sample_decorator(func):          # определяем декоратор\n",
    "    def wrapper():\n",
    "        print('Начало функции')\n",
    "        func()\n",
    "        print('Конец функции')\n",
    "    return wrapper\n",
    "\n",
    "@sample_decorator                    # декорируем функцию\n",
    "def say():\n",
    "    print('Привет Мир!')\n",
    "\n",
    "say()\n",
    "\n",
    "#Тоже самое декорирование, но через синтаксис @:\n",
    "#   - мы говорим что при вызове этой функции будет вызываться функция sample_decorator с аргументом say"
   ]
  },
  {
   "cell_type": "code",
   "execution_count": null,
   "id": "1af6c0dd",
   "metadata": {},
   "outputs": [
    {
     "name": "stdout",
     "output_type": "stream",
     "text": [
      "HELLO WORLD!\n"
     ]
    }
   ],
   "source": [
    "def uppercase_decorator(func):\n",
    "    def wrapper():\n",
    "        original_result = func()\n",
    "        modified_result = original_result.upper()\n",
    "        return modified_result\n",
    "\n",
    "    return wrapper\n",
    "\n",
    "@uppercase_decorator\n",
    "def greet():\n",
    "    return 'Hello world!'\n",
    "\n",
    "print(greet())  #HELLO WORLD!\n",
    "\n",
    "#Здесь декоратор принимает результат работы функции и накручивает на этот результат допольнительные операции"
   ]
  },
  {
   "cell_type": "code",
   "execution_count": null,
   "id": "a2a24f10",
   "metadata": {},
   "outputs": [
    {
     "name": "stdout",
     "output_type": "stream",
     "text": [
      "<b><i>Hello world!</i></b>\n"
     ]
    }
   ],
   "source": [
    "def bold(func):\n",
    "    def wrapper():\n",
    "        return '<b>' + func() + '</b>'\n",
    "    return wrapper\n",
    "\n",
    "def italic(func):\n",
    "    def wrapper():\n",
    "        return '<i>' + func() + '</i>'\n",
    "    return wrapper\n",
    "\n",
    "@bold\n",
    "@italic\n",
    "def greet():\n",
    "    return 'Hello world!'\n",
    "\n",
    "print(greet())  #<b><i>Hello world!</i></b>\n",
    "\n",
    "#Использование нескольких декораторов - работают снизу вверх"
   ]
  },
  {
   "cell_type": "code",
   "execution_count": null,
   "id": "b8a3b8cc",
   "metadata": {},
   "outputs": [
    {
     "name": "stdout",
     "output_type": "stream",
     "text": [
      "<b>Hello Timur!</b>\n",
      "<b>Hello world!</b>\n",
      "<b>Hello Timur Guev!</b>\n"
     ]
    }
   ],
   "source": [
    "def bold(func):\n",
    "    def wrapper(*args, **kwargs):\n",
    "        return '<b>' + func(*args, **kwargs) + '</b>'\n",
    "\n",
    "    return wrapper\n",
    "\n",
    "@bold\n",
    "def greet1(name):\n",
    "    return f'Hello {name}!'\n",
    "\n",
    "@bold\n",
    "def greet2():\n",
    "    return 'Hello world!'\n",
    "\n",
    "@bold\n",
    "def greet3(name, surname):\n",
    "    return f'Hello {name} {surname}!'\n",
    "\n",
    "print(greet1('Timur'))          #<b>Hello Timur!</b>\n",
    "print(greet2())                 #<b>Hello world!</b>\n",
    "print(greet3('Timur', 'Guev'))  #<b>Hello Timur Guev!</b>\n",
    "\n",
    "#Декораторы должны нести в себе столько же аргументов, сколько функция\n",
    "#Чтобы избежать ошибки - можно принимать во вложенную функцию args и kwargs, чтобы работало любое кол-во значений\n"
   ]
  },
  {
   "cell_type": "code",
   "execution_count": 1,
   "id": "86d41bcc",
   "metadata": {},
   "outputs": [
    {
     "name": "stdout",
     "output_type": "stream",
     "text": [
      "greet\n",
      "Функция приветствие пользователя.\n"
     ]
    }
   ],
   "source": [
    "import functools\n",
    "\n",
    "def bold(func):\n",
    "    @functools.wraps(func)\n",
    "    def wrapper(*args, **kwargs):\n",
    "        return '<b>' + func(*args, **kwargs) + '</b>'\n",
    "    return wrapper\n",
    "\n",
    "@bold\n",
    "def greet(name):\n",
    "    '''Функция приветствие пользователя.'''\n",
    "    return f'Hello {name}!'\n",
    "\n",
    "print(greet.__name__)\n",
    "print(greet.__doc__)\n",
    "\n",
    "\n",
    "#Для того чтобы после декорирования сохранялись аттрибуты name и doc - нужно применять к wrapper декоратор functools.wraps"
   ]
  },
  {
   "cell_type": "code",
   "execution_count": null,
   "id": "1da8c7de",
   "metadata": {},
   "outputs": [],
   "source": [
    "import functools\n",
    "\n",
    "def decorator(func):\n",
    "    @functools.wraps(func)\n",
    "    def wrapper(*args, **kwargs):\n",
    "        # Что-то выполняется до вызова декорируемой функции\n",
    "        value = func(*args, **kwargs)\n",
    "        # декорируется возвращаемое значение функции\n",
    "        # или что-то выполняется после вызова декорируемой функции\n",
    "        return value\n",
    "    return wrapper\n",
    "\n",
    "\n",
    "#Общий шаблон для всех декоратор"
   ]
  },
  {
   "cell_type": "code",
   "execution_count": null,
   "id": "7094db9a",
   "metadata": {},
   "outputs": [],
   "source": [
    "import functools, time\n",
    "\n",
    "def timer(func):\n",
    "    @functools.wraps(func)\n",
    "    def wrapper(*args, **kwargs):\n",
    "        start = time.perf_counter()\n",
    "        val = func(*args, **kwargs)\n",
    "        end = time.perf_counter()\n",
    "        work_time = end - start\n",
    "        print(f'Время выполнения {func.__name__}: {round(work_time, 4)} сек.')\n",
    "        return val\n",
    "    return wrapper\n",
    "\n",
    "@timer\n",
    "def test(n):\n",
    "    return sum([(i/99)**2 for i in range(n)])\n",
    "\n",
    "@timer\n",
    "def sleep(n):\n",
    "    time.sleep(n)\n",
    "\n",
    "res1 = test(10000)\n",
    "res2 = sleep(4)\n",
    "\n",
    "print(f'Результат функции test = {res1}')\n",
    "print(f'Результат функции sleep = {res2}')\n",
    "\n",
    "#Шаблон для декоратора, который замеряет и выводит время работы команды"
   ]
  },
  {
   "cell_type": "code",
   "execution_count": 2,
   "id": "43777a8e",
   "metadata": {},
   "outputs": [
    {
     "name": "stdout",
     "output_type": "stream",
     "text": [
      "Вызов greet: 1\n",
      "Hello Timur!\n",
      "Вызов greet: 2\n",
      "Hello Ruslan!\n",
      "Вызов greet: 3\n",
      "Hello Arthur!\n",
      "Вызов greet: 4\n",
      "Hello Gvido!\n"
     ]
    }
   ],
   "source": [
    "import functools\n",
    "\n",
    "def counter(func):\n",
    "    @functools.wraps(func)\n",
    "    def wrapper(*args, **kwargs):\n",
    "        wrapper.num += 1\n",
    "        print(f'Вызов {func.__name__}: {wrapper.num}')\n",
    "        val = func(*args, **kwargs)\n",
    "        return val\n",
    "    wrapper.num = 0\n",
    "    return wrapper\n",
    "\n",
    "@counter\n",
    "def greet(name):\n",
    "    return f'Hello {name}!'\n",
    "\n",
    "print(greet('Timur'))\n",
    "print(greet('Ruslan'))\n",
    "print(greet('Arthur'))\n",
    "print(greet('Gvido'))\n",
    "\n",
    "#Шаблон декоратора который считает кол-во выполнения"
   ]
  },
  {
   "cell_type": "code",
   "execution_count": null,
   "id": "accb4315",
   "metadata": {},
   "outputs": [
    {
     "name": "stdout",
     "output_type": "stream",
     "text": [
      "******************************\n",
      "12\n",
      "----------\n",
      "200\n",
      "========================================\n",
      "99\n"
     ]
    }
   ],
   "source": [
    "def print_symbols(symbol, length):\n",
    "    def decorator(func):\n",
    "        def wrapper(*args, **kwargs):\n",
    "            print(symbol * length)\n",
    "            return func(*args, **kwargs)\n",
    "        return wrapper\n",
    "    return decorator\n",
    "\n",
    "\n",
    "@print_symbols('*', 30)\n",
    "def add(a, b):\n",
    "    return a + b\n",
    "\n",
    "@print_symbols('-', 10)\n",
    "def mult(a, b):\n",
    "    return a * b\n",
    "\n",
    "@print_symbols('=', 40)\n",
    "def diff(a, b):\n",
    "    return a - b\n",
    "\n",
    "print(add(3, 9))\n",
    "print(mult(10, 20))\n",
    "print(diff(100, 1))\n",
    "\n",
    "#Декораторы с параметрами"
   ]
  }
 ],
 "metadata": {
  "kernelspec": {
   "display_name": "base",
   "language": "python",
   "name": "python3"
  },
  "language_info": {
   "codemirror_mode": {
    "name": "ipython",
    "version": 3
   },
   "file_extension": ".py",
   "mimetype": "text/x-python",
   "name": "python",
   "nbconvert_exporter": "python",
   "pygments_lexer": "ipython3",
   "version": "3.11.7"
  }
 },
 "nbformat": 4,
 "nbformat_minor": 5
}
