{
 "cells": [
  {
   "cell_type": "code",
   "execution_count": null,
   "id": "c36de9be",
   "metadata": {},
   "outputs": [
    {
     "name": "stdout",
     "output_type": "stream",
     "text": [
      "Начало функции\n",
      "Привет Мир!\n",
      "Конец функции\n"
     ]
    }
   ],
   "source": [
    "def sample_decorator(func):          # определяем декоратор\n",
    "    def wrapper():\n",
    "        print('Начало функции')\n",
    "        func()\n",
    "        print('Конец функции')\n",
    "    return wrapper\n",
    "\n",
    "def say():\n",
    "    print('Привет Мир!')\n",
    "\n",
    "say = sample_decorator(say)          # декорируем функцию\n",
    "\n",
    "say()                                # вызываем декорированную функцию\n",
    "\n",
    "#Декоратор - функция, которая принимает другую функцию и расширяет её поведения. Это как бы обертка над функцией"
   ]
  },
  {
   "cell_type": "code",
   "execution_count": null,
   "id": "159fea6a",
   "metadata": {},
   "outputs": [
    {
     "name": "stdout",
     "output_type": "stream",
     "text": [
      "Начало функции\n",
      "Привет Мир!\n",
      "Конец функции\n"
     ]
    }
   ],
   "source": [
    "def sample_decorator(func):          # определяем декоратор\n",
    "    def wrapper():\n",
    "        print('Начало функции')\n",
    "        func()\n",
    "        print('Конец функции')\n",
    "    return wrapper\n",
    "\n",
    "@sample_decorator                    # декорируем функцию\n",
    "def say():\n",
    "    print('Привет Мир!')\n",
    "\n",
    "say()\n",
    "\n",
    "#Тоже самое декорирование, но через синтаксис @:\n",
    "#   - мы говорим что при вызове этой функции будет вызываться функция sample_decorator с аргументом say"
   ]
  },
  {
   "cell_type": "code",
   "execution_count": null,
   "id": "1af6c0dd",
   "metadata": {},
   "outputs": [
    {
     "name": "stdout",
     "output_type": "stream",
     "text": [
      "HELLO WORLD!\n"
     ]
    }
   ],
   "source": [
    "def uppercase_decorator(func):\n",
    "    def wrapper():\n",
    "        original_result = func()\n",
    "        modified_result = original_result.upper()\n",
    "        return modified_result\n",
    "\n",
    "    return wrapper\n",
    "\n",
    "@uppercase_decorator\n",
    "def greet():\n",
    "    return 'Hello world!'\n",
    "\n",
    "print(greet())  #HELLO WORLD!\n",
    "\n",
    "#Здесь декоратор принимает результат работы функции и накручивает на этот результат допольнительные операции"
   ]
  },
  {
   "cell_type": "code",
   "execution_count": null,
   "id": "a2a24f10",
   "metadata": {},
   "outputs": [
    {
     "name": "stdout",
     "output_type": "stream",
     "text": [
      "<b><i>Hello world!</i></b>\n"
     ]
    }
   ],
   "source": [
    "def bold(func):\n",
    "    def wrapper():\n",
    "        return '<b>' + func() + '</b>'\n",
    "    return wrapper\n",
    "\n",
    "def italic(func):\n",
    "    def wrapper():\n",
    "        return '<i>' + func() + '</i>'\n",
    "    return wrapper\n",
    "\n",
    "@bold\n",
    "@italic\n",
    "def greet():\n",
    "    return 'Hello world!'\n",
    "\n",
    "print(greet())  #<b><i>Hello world!</i></b>\n",
    "\n",
    "#Использование нескольких декораторов - работают снизу вверх"
   ]
  },
  {
   "cell_type": "code",
   "execution_count": null,
   "id": "b8a3b8cc",
   "metadata": {},
   "outputs": [
    {
     "name": "stdout",
     "output_type": "stream",
     "text": [
      "<b>Hello Timur!</b>\n",
      "<b>Hello world!</b>\n",
      "<b>Hello Timur Guev!</b>\n"
     ]
    }
   ],
   "source": [
    "def bold(func):\n",
    "    def wrapper(*args, **kwargs):\n",
    "        return '<b>' + func(*args, **kwargs) + '</b>'\n",
    "\n",
    "    return wrapper\n",
    "\n",
    "@bold\n",
    "def greet1(name):\n",
    "    return f'Hello {name}!'\n",
    "\n",
    "@bold\n",
    "def greet2():\n",
    "    return 'Hello world!'\n",
    "\n",
    "@bold\n",
    "def greet3(name, surname):\n",
    "    return f'Hello {name} {surname}!'\n",
    "\n",
    "print(greet1('Timur'))          #<b>Hello Timur!</b>\n",
    "print(greet2())                 #<b>Hello world!</b>\n",
    "print(greet3('Timur', 'Guev'))  #<b>Hello Timur Guev!</b>\n",
    "\n",
    "#Декораторы должны нести в себе столько же аргументов, сколько функция\n",
    "#Чтобы избежать ошибки - можно принимать во вложенную функцию args и kwargs, чтобы работало любое кол-во значений\n"
   ]
  }
 ],
 "metadata": {
  "kernelspec": {
   "display_name": "base",
   "language": "python",
   "name": "python3"
  },
  "language_info": {
   "codemirror_mode": {
    "name": "ipython",
    "version": 3
   },
   "file_extension": ".py",
   "mimetype": "text/x-python",
   "name": "python",
   "nbconvert_exporter": "python",
   "pygments_lexer": "ipython3",
   "version": "3.11.7"
  }
 },
 "nbformat": 4,
 "nbformat_minor": 5
}
