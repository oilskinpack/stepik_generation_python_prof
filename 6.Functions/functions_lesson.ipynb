{
 "cells": [
  {
   "cell_type": "code",
   "execution_count": null,
   "id": "98be32a1",
   "metadata": {},
   "outputs": [
    {
     "name": "stdout",
     "output_type": "stream",
     "text": [
      "1\n",
      "a\n",
      "-3\n",
      "Empty\n"
     ]
    }
   ],
   "source": [
    "#Функция - min()\n",
    "#key - функция по которой определяем\n",
    "#default - что подставлять в итерируемый объект если он пустой\n",
    "\n",
    "\n",
    "print(min([1, 2, 5, 7, 34, 6]))\n",
    "print(min('a', 'b', 'ab'))\n",
    "print(min([-3, 4, -90, 3, 45], key=abs))\n",
    "print(min([], default='Empty'))\n",
    "\n",
    "# 1\n",
    "# a\n",
    "# -3\n",
    "# Empty"
   ]
  },
  {
   "cell_type": "code",
   "execution_count": null,
   "id": "9dd002f1",
   "metadata": {},
   "outputs": [
    {
     "name": "stdout",
     "output_type": "stream",
     "text": [
      "34\n",
      "b\n",
      "-90\n",
      "Empty\n"
     ]
    }
   ],
   "source": [
    "#Функция max() - тоже самое\n",
    "\n",
    "print(max([1, 2, 5, 7, 34, 6]))\n",
    "print(max('a', 'b', 'ab'))\n",
    "print(max([-3, 4, -90, 3, 45], key=abs))\n",
    "print(max([], default='Empty'))\n",
    "\n",
    "# 34\n",
    "# b\n",
    "# -90\n",
    "# Empty"
   ]
  },
  {
   "cell_type": "code",
   "execution_count": 4,
   "id": "3f9e078b",
   "metadata": {},
   "outputs": [
    {
     "name": "stdout",
     "output_type": "stream",
     "text": [
      "6\n",
      "7\n",
      "10\n"
     ]
    }
   ],
   "source": [
    "#Функция len()\n",
    "\n",
    "print(len([1, 2, 3, 4, 5, 6]))\n",
    "print(len('abcdefg'))\n",
    "print(len(range(10)))\n",
    "\n",
    "# 6\n",
    "# 7\n",
    "# 10"
   ]
  },
  {
   "cell_type": "code",
   "execution_count": null,
   "id": "1319ad42",
   "metadata": {},
   "outputs": [
    {
     "name": "stdout",
     "output_type": "stream",
     "text": [
      "21\n",
      "99\n"
     ]
    }
   ],
   "source": [
    "#Функция sum()\n",
    "#start - начальное значение для суммы\n",
    "\n",
    "print(sum([1, 2, 3, 4, 5, 6]))\n",
    "print(sum([], 99))\n",
    "\n",
    "# 21\n",
    "# 99"
   ]
  },
  {
   "cell_type": "code",
   "execution_count": null,
   "id": "cd4b0d62",
   "metadata": {},
   "outputs": [
    {
     "name": "stdout",
     "output_type": "stream",
     "text": [
      "5 4 3 2 1 "
     ]
    }
   ],
   "source": [
    "#Функция reversed()\n",
    "\n",
    "for i in reversed([1, 2, 3, 4, 5]):\n",
    "    print(i, end=' ') #5 4 3 2 1"
   ]
  },
  {
   "cell_type": "code",
   "execution_count": null,
   "id": "24c7814d",
   "metadata": {},
   "outputs": [
    {
     "name": "stdout",
     "output_type": "stream",
     "text": [
      "[4, 6, 23, 39, 56]\n",
      "[56, 39, 23, 6, 4]\n",
      "['step', 'python', 'beegeek']\n"
     ]
    }
   ],
   "source": [
    "#Функция sorted()\n",
    "#key - функция сортировки\n",
    "#reverse - сортировка по убыванию\n",
    "\n",
    "print(sorted([23, 4, 56, 6, 39]))\n",
    "print(sorted([23, 4, 56, 6, 39], reverse=True))\n",
    "print(sorted(['beegeek', 'step', 'python'], key=len))\n",
    "\n",
    "# [4, 6, 23, 39, 56]\n",
    "# [56, 39, 23, 6, 4]\n",
    "# ['step', 'python', 'beegeek']"
   ]
  },
  {
   "cell_type": "code",
   "execution_count": null,
   "id": "9bde2fbb",
   "metadata": {},
   "outputs": [
    {
     "name": "stdout",
     "output_type": "stream",
     "text": [
      "True\n",
      "False\n",
      "False\n",
      "False\n"
     ]
    }
   ],
   "source": [
    "#Функция all() - возвращает True если все элементы в объекте истины\n",
    "\n",
    "print(all([1, 2, 3]))   \n",
    "print(all([1, 2, 3, 0, 5]))\n",
    "print(all([True, 0, 1]))\n",
    "print(all(('', 'red', 'green')))\n",
    "\n",
    "# True\n",
    "# False\n",
    "# False\n",
    "# False"
   ]
  },
  {
   "cell_type": "code",
   "execution_count": null,
   "id": "ad0a41ed",
   "metadata": {},
   "outputs": [
    {
     "name": "stdout",
     "output_type": "stream",
     "text": [
      "False\n",
      "True\n",
      "True\n",
      "True\n"
     ]
    }
   ],
   "source": [
    "#Если хотя бы один элемент истинный\n",
    "\n",
    "print(any([0, 0, 0]))\n",
    "print(any([0, 1, 0]))\n",
    "print(any([False, 0, 1]))\n",
    "print(any(['', [], 'green']))\n",
    "\n",
    "# False\n",
    "# True\n",
    "# True\n",
    "# True"
   ]
  },
  {
   "cell_type": "code",
   "execution_count": null,
   "id": "838cf5ba",
   "metadata": {},
   "outputs": [
    {
     "name": "stdout",
     "output_type": "stream",
     "text": [
      "(1, 'red')\n",
      "(2, 'green')\n",
      "(3, 'blue')\n"
     ]
    }
   ],
   "source": [
    "#Функция enumerate() - возвращает итератор кортежей с индексами\n",
    "#start - начальный индекс (по дефолту 0)\n",
    "\n",
    "colors = ['red', 'green', 'blue']\n",
    "\n",
    "for pair in enumerate(colors, 1):\n",
    "    print(pair)\n",
    "\n",
    "# (1, 'red')\n",
    "# (2, 'green')\n",
    "# (3, 'blue')"
   ]
  },
  {
   "cell_type": "code",
   "execution_count": null,
   "id": "924dacfb",
   "metadata": {},
   "outputs": [
    {
     "name": "stdout",
     "output_type": "stream",
     "text": [
      "1\n",
      "range(2, 5)\n",
      "1\n",
      "9\n",
      "False\n"
     ]
    }
   ],
   "source": [
    "#Range() - итератор, который хранит в себе старт, финиш и шаг.\n",
    "\n",
    "#Умеет всё то же, что списки, но делает это куда быстрее, потому что не хранит в себе все элементы, а вычисляет налету\n",
    "\n",
    "my_range = range(1, 11)\n",
    "\n",
    "print(my_range[0])\n",
    "print(my_range[1:4])\n",
    "print(my_range.count(7))\n",
    "print(my_range.index(10))\n",
    "print(my_range == range(1, 10))\n",
    "\n",
    "# 1\n",
    "# range(2, 5)\n",
    "# 1\n",
    "# 9\n",
    "# False"
   ]
  },
  {
   "cell_type": "code",
   "execution_count": null,
   "id": "405356da",
   "metadata": {},
   "outputs": [
    {
     "name": "stdout",
     "output_type": "stream",
     "text": [
      "(1, 'one', 'I')\n",
      "(2, 'two', 'II')\n",
      "(3, 'three', 'III')\n"
     ]
    }
   ],
   "source": [
    "#Функция zip() - пакует 2 и более коллекции в кортежи\n",
    "\n",
    "numbers = [1, 2, 3]\n",
    "words = ['one', 'two', 'three']\n",
    "romans = ['I', 'II', 'III']\n",
    "\n",
    "for number in zip(numbers, words, romans):\n",
    "    print(number)\n",
    "\n",
    "# (1, 'one', 'I')\n",
    "# (2, 'two', 'II')\n",
    "# (3, 'three', 'III')"
   ]
  },
  {
   "cell_type": "code",
   "execution_count": null,
   "id": "7d1f302c",
   "metadata": {},
   "outputs": [
    {
     "name": "stdout",
     "output_type": "stream",
     "text": [
      "True\n",
      "True\n",
      "True\n",
      "True\n",
      "True\n"
     ]
    }
   ],
   "source": [
    "#Функция isinstance - проверяет является ли элемент экземпляром класса или структуры (можно передавать кортеж в список классов)\n",
    "\n",
    "print(isinstance(3, int))\n",
    "print(isinstance(3.5, (float, int, str)))\n",
    "print(isinstance('Beegeek', str))\n",
    "print(isinstance([1, 2, 3], list))\n",
    "print(isinstance(True, bool))\n",
    "\n",
    "# True\n",
    "# True\n",
    "# True\n",
    "# True\n",
    "# True"
   ]
  },
  {
   "cell_type": "code",
   "execution_count": 1,
   "id": "c793fc40",
   "metadata": {},
   "outputs": [
    {
     "name": "stdout",
     "output_type": "stream",
     "text": [
      "True\n",
      "True\n",
      "False\n",
      "False\n"
     ]
    }
   ],
   "source": [
    "#Calable - можно ли вызвать объект как функцию\n",
    "\n",
    "print(callable(int))\n",
    "print(callable(list))\n",
    "print(callable(100))\n",
    "print(callable([1, 2, 3]))\n",
    "\n",
    "# True\n",
    "# True\n",
    "# False\n",
    "# False"
   ]
  },
  {
   "cell_type": "code",
   "execution_count": 2,
   "id": "8c3634b3",
   "metadata": {},
   "outputs": [
    {
     "name": "stdout",
     "output_type": "stream",
     "text": [
      "True\n",
      "True\n",
      "False\n"
     ]
    }
   ],
   "source": [
    "#Hasattr - есть ли атрибут (функция)\n",
    "\n",
    "print(hasattr('stepik', 'isalpha'))\n",
    "print(hasattr([1, 2, 3], 'sort'))\n",
    "print(hasattr(13, 'to_str'))\n",
    "\n",
    "# True\n",
    "# True\n",
    "# False"
   ]
  },
  {
   "cell_type": "code",
   "execution_count": 3,
   "id": "4117f398",
   "metadata": {},
   "outputs": [
    {
     "name": "stdout",
     "output_type": "stream",
     "text": [
      "899\n",
      "69\n",
      "-1399442239205803949\n",
      "529344067295497451\n",
      "0\n",
      "1\n"
     ]
    }
   ],
   "source": [
    "#Хеш элемента\n",
    "\n",
    "print(hash(899))\n",
    "print(hash(69.0))\n",
    "print(hash('timyrik'))\n",
    "print(hash((1, 2, 3)))\n",
    "print(hash(False))\n",
    "print(hash(True))\n",
    "\n",
    "# 899\n",
    "# 69\n",
    "# -1399442239205803949\n",
    "# 529344067295497451\n",
    "# 0\n",
    "# 1"
   ]
  },
  {
   "attachments": {
    "image.png": {
     "image/png": "[encoded data removed]"
    }
   },
   "cell_type": "markdown",
   "id": "03a62581",
   "metadata": {},
   "source": [
    "![image.png](attachment:image.png)"
   ]
  },
  {
   "cell_type": "code",
   "execution_count": 4,
   "id": "ad411c8a",
   "metadata": {},
   "outputs": [
    {
     "data": {
      "text/plain": [
       "True"
      ]
     },
     "execution_count": 4,
     "metadata": {},
     "output_type": "execute_result"
    }
   ],
   "source": [
    "#При этом\n",
    "hash(-1) == hash(-2) #True"
   ]
  },
  {
   "cell_type": "code",
   "execution_count": null,
   "id": "3022dff4",
   "metadata": {},
   "outputs": [
    {
     "name": "stdout",
     "output_type": "stream",
     "text": [
      "<class 'int'>\n",
      "17\n"
     ]
    }
   ],
   "source": [
    "#Функция eval() - принимает выражение строкой и превращает его в формулу, высчитывая значение\n",
    "# Для выполнения строки-выражения, функция eval() совершает следующие шаги:\n",
    "#     Парсит (parse) выражение\n",
    "#     Компилирует (compile) выражение в байт-код\n",
    "#     Вычисляет (evaluate) значение выражения\n",
    "#     Возвращает (return) результат вычисления\n",
    "expression = '7 + 10'\n",
    "\n",
    "result = eval(expression)\n",
    "\n",
    "print(result) #17"
   ]
  },
  {
   "cell_type": "code",
   "execution_count": null,
   "id": "096309d6",
   "metadata": {},
   "outputs": [
    {
     "name": "stdout",
     "output_type": "stream",
     "text": [
      "Привет из функции eval()\n",
      "None\n",
      "5\n"
     ]
    }
   ],
   "source": [
    "# Выражения, передаваемые в качестве аргумента функции eval(), имеют доступ ко всем встроенным функциям Python\n",
    "# Выражения, передаваемые в качестве аргумента функции eval(), имеют доступ ко всем локальным и глобальным переменным.\n",
    "expression1 = \"print('Привет из функции eval()')\"\n",
    "expression2 = \"len([1, 1, 1, 1, 1])\"\n",
    "\n",
    "result1 = eval(expression1)\n",
    "result2 = eval(expression2)\n",
    "\n",
    "print(result1)\n",
    "print(result2)\n",
    "\n",
    "# Привет из функции eval()\n",
    "# None\n",
    "# 5"
   ]
  },
  {
   "cell_type": "code",
   "execution_count": null,
   "id": "55320b01",
   "metadata": {},
   "outputs": [
    {
     "name": "stdout",
     "output_type": "stream",
     "text": [
      "17\n",
      "[1, 4, 9, 16, 25]\n",
      "1.5707963267948966\n"
     ]
    }
   ],
   "source": [
    "from math import pi\n",
    "\n",
    "n = 10\n",
    "nums = [1, 2, 3, 4, 5]\n",
    "\n",
    "expression1 = \"n + 7\"\n",
    "expression2 = \"[i**2 for i in nums]\"\n",
    "expression3 = \"pi / 2\"\n",
    "\n",
    "result1 = eval(expression1)\n",
    "result2 = eval(expression2)\n",
    "result3 = eval(expression3)\n",
    "\n",
    "print(result1)\n",
    "print(result2)\n",
    "print(result3)\n",
    "\n",
    "# 17\n",
    "# [1, 4, 9, 16, 25]\n",
    "# 1.5707963267948966"
   ]
  },
  {
   "cell_type": "code",
   "execution_count": null,
   "id": "7a1c21ab",
   "metadata": {},
   "outputs": [
    {
     "name": "stdout",
     "output_type": "stream",
     "text": [
      "<class 'list'> 3\n",
      "<class 'tuple'> 5\n",
      "<class 'dict'> February\n"
     ]
    }
   ],
   "source": [
    "#С помощью eval можно парсить строки в реальные объекты\n",
    "list_data = eval(\"['Python', 'C#', 'Java']\")\n",
    "tuple_data = eval('(1, 2, 3, 4, 5)')\n",
    "dict_data = eval(\"{1: 'January', 2: 'February'}\")\n",
    "\n",
    "print(type(list_data), len(list_data))\n",
    "print(type(tuple_data), max(tuple_data))\n",
    "print(type(dict_data), dict_data[2])\n",
    "\n",
    "# <class 'list'> 3\n",
    "# <class 'tuple'> 5\n",
    "# <class 'dict'> February"
   ]
  },
  {
   "cell_type": "code",
   "execution_count": null,
   "id": "fee4b61c",
   "metadata": {},
   "outputs": [
    {
     "name": "stdout",
     "output_type": "stream",
     "text": [
      "30\n"
     ]
    }
   ],
   "source": [
    "#Функция exec() - принимает строку как код и выполняет её, возвращая None\n",
    "code = '''a = 10\n",
    "b = 20\n",
    "print(a + b)'''\n",
    "\n",
    "exec(code) #30"
   ]
  },
  {
   "cell_type": "code",
   "execution_count": null,
   "id": "4624691b",
   "metadata": {},
   "outputs": [],
   "source": []
  }
 ],
 "metadata": {
  "kernelspec": {
   "display_name": "base",
   "language": "python",
   "name": "python3"
  },
  "language_info": {
   "codemirror_mode": {
    "name": "ipython",
    "version": 3
   },
   "file_extension": ".py",
   "mimetype": "text/x-python",
   "name": "python",
   "nbconvert_exporter": "python",
   "pygments_lexer": "ipython3",
   "version": "3.11.7"
  }
 },
 "nbformat": 4,
 "nbformat_minor": 5
}
